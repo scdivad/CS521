{
  "cells": [
    {
      "cell_type": "markdown",
      "metadata": {
        "id": "view-in-github",
        "colab_type": "text"
      },
      "source": [
        "<a href=\"https://colab.research.google.com/github/scdivad/CS521/blob/main/CS521_HW_3.ipynb\" target=\"_parent\"><img src=\"https://colab.research.google.com/assets/colab-badge.svg\" alt=\"Open In Colab\"/></a>"
      ]
    },
    {
      "cell_type": "code",
      "execution_count": null,
      "metadata": {
        "colab": {
          "base_uri": "https://localhost:8080/"
        },
        "id": "jmALG91XRvWx",
        "outputId": "04524788-efa0-4b97-bbd5-17130c5cb61a"
      },
      "outputs": [
        {
          "output_type": "stream",
          "name": "stdout",
          "text": [
            "Mounted at /content/drive\n"
          ]
        }
      ],
      "source": [
        "from google.colab import drive\n",
        "drive.mount('/content/drive')"
      ]
    },
    {
      "cell_type": "markdown",
      "metadata": {
        "id": "Whsg1XX_OZs6"
      },
      "source": [
        "# Q1 Setep\n",
        "Do not run for Q2 due to dependency issues\n"
      ]
    },
    {
      "cell_type": "code",
      "execution_count": null,
      "metadata": {
        "colab": {
          "base_uri": "https://localhost:8080/"
        },
        "id": "R1domTvnONqD",
        "outputId": "b79fd2b4-f90d-4947-a81f-5311b33aa0d7"
      },
      "outputs": [
        {
          "output_type": "stream",
          "name": "stdout",
          "text": [
            "Downloading http://yann.lecun.com/exdb/mnist/train-images-idx3-ubyte.gz\n",
            "Failed to download (trying next):\n",
            "<urlopen error [SSL: CERTIFICATE_VERIFY_FAILED] certificate verify failed: certificate has expired (_ssl.c:1007)>\n",
            "\n",
            "Downloading https://ossci-datasets.s3.amazonaws.com/mnist/train-images-idx3-ubyte.gz\n",
            "Downloading https://ossci-datasets.s3.amazonaws.com/mnist/train-images-idx3-ubyte.gz to mnist_data/MNIST/raw/train-images-idx3-ubyte.gz\n"
          ]
        },
        {
          "output_type": "stream",
          "name": "stderr",
          "text": [
            "100%|██████████| 9912422/9912422 [00:11<00:00, 897762.26it/s] \n"
          ]
        },
        {
          "output_type": "stream",
          "name": "stdout",
          "text": [
            "Extracting mnist_data/MNIST/raw/train-images-idx3-ubyte.gz to mnist_data/MNIST/raw\n",
            "\n",
            "Downloading http://yann.lecun.com/exdb/mnist/train-labels-idx1-ubyte.gz\n",
            "Failed to download (trying next):\n",
            "<urlopen error [SSL: CERTIFICATE_VERIFY_FAILED] certificate verify failed: certificate has expired (_ssl.c:1007)>\n",
            "\n",
            "Downloading https://ossci-datasets.s3.amazonaws.com/mnist/train-labels-idx1-ubyte.gz\n",
            "Downloading https://ossci-datasets.s3.amazonaws.com/mnist/train-labels-idx1-ubyte.gz to mnist_data/MNIST/raw/train-labels-idx1-ubyte.gz\n"
          ]
        },
        {
          "output_type": "stream",
          "name": "stderr",
          "text": [
            "100%|██████████| 28881/28881 [00:00<00:00, 136080.00it/s]\n"
          ]
        },
        {
          "output_type": "stream",
          "name": "stdout",
          "text": [
            "Extracting mnist_data/MNIST/raw/train-labels-idx1-ubyte.gz to mnist_data/MNIST/raw\n",
            "\n",
            "Downloading http://yann.lecun.com/exdb/mnist/t10k-images-idx3-ubyte.gz\n",
            "Failed to download (trying next):\n",
            "<urlopen error [SSL: CERTIFICATE_VERIFY_FAILED] certificate verify failed: certificate has expired (_ssl.c:1007)>\n",
            "\n",
            "Downloading https://ossci-datasets.s3.amazonaws.com/mnist/t10k-images-idx3-ubyte.gz\n",
            "Downloading https://ossci-datasets.s3.amazonaws.com/mnist/t10k-images-idx3-ubyte.gz to mnist_data/MNIST/raw/t10k-images-idx3-ubyte.gz\n"
          ]
        },
        {
          "output_type": "stream",
          "name": "stderr",
          "text": [
            "100%|██████████| 1648877/1648877 [00:01<00:00, 1291326.73it/s]\n"
          ]
        },
        {
          "output_type": "stream",
          "name": "stdout",
          "text": [
            "Extracting mnist_data/MNIST/raw/t10k-images-idx3-ubyte.gz to mnist_data/MNIST/raw\n",
            "\n",
            "Downloading http://yann.lecun.com/exdb/mnist/t10k-labels-idx1-ubyte.gz\n",
            "Failed to download (trying next):\n",
            "<urlopen error [SSL: CERTIFICATE_VERIFY_FAILED] certificate verify failed: certificate has expired (_ssl.c:1007)>\n",
            "\n",
            "Downloading https://ossci-datasets.s3.amazonaws.com/mnist/t10k-labels-idx1-ubyte.gz\n",
            "Downloading https://ossci-datasets.s3.amazonaws.com/mnist/t10k-labels-idx1-ubyte.gz to mnist_data/MNIST/raw/t10k-labels-idx1-ubyte.gz\n"
          ]
        },
        {
          "output_type": "stream",
          "name": "stderr",
          "text": [
            "100%|██████████| 4542/4542 [00:00<00:00, 5330310.23it/s]"
          ]
        },
        {
          "output_type": "stream",
          "name": "stdout",
          "text": [
            "Extracting mnist_data/MNIST/raw/t10k-labels-idx1-ubyte.gz to mnist_data/MNIST/raw\n",
            "\n"
          ]
        },
        {
          "output_type": "stream",
          "name": "stderr",
          "text": [
            "\n"
          ]
        },
        {
          "output_type": "execute_result",
          "data": {
            "text/plain": [
              "Net(\n",
              "  (fc): Linear(in_features=784, out_features=50, bias=True)\n",
              "  (relu1): ReLU()\n",
              "  (fc2): Linear(in_features=50, out_features=50, bias=True)\n",
              "  (relu2): ReLU()\n",
              "  (fc3): Linear(in_features=50, out_features=10, bias=True)\n",
              ")"
            ]
          },
          "metadata": {},
          "execution_count": 58
        }
      ],
      "source": [
        "import torch\n",
        "import torch.nn as nn\n",
        "import torch.optim as optim\n",
        "import torch.nn.functional as F\n",
        "import numpy as np\n",
        "import time\n",
        "import matplotlib.pyplot as plt\n",
        "\n",
        "from torchvision import datasets, transforms\n",
        "\n",
        "use_cuda = True\n",
        "device = torch.device(\"cuda\" if use_cuda else \"cpu\")\n",
        "batch_size = 64\n",
        "\n",
        "## Dataloaders\n",
        "train_dataset = datasets.MNIST('mnist_data/', train=True, download=True, transform=transforms.Compose(\n",
        "    [transforms.ToTensor()]\n",
        "))\n",
        "test_dataset = datasets.MNIST('mnist_data/', train=False, download=True, transform=transforms.Compose(\n",
        "    [transforms.ToTensor()]\n",
        "))\n",
        "\n",
        "train_loader = torch.utils.data.DataLoader(train_dataset, batch_size=batch_size, shuffle=True)\n",
        "test_loader = torch.utils.data.DataLoader(test_dataset, batch_size=batch_size, shuffle=False)\n",
        "\n",
        "class Net(nn.Module):\n",
        "    def __init__(self):\n",
        "        super(Net, self).__init__()\n",
        "        self.fc = nn.Linear(28*28, 50)\n",
        "        self.relu1 = nn.ReLU()\n",
        "        self.fc2 = nn.Linear(50,50)\n",
        "        self.relu2 = nn.ReLU()\n",
        "        self.fc3 = nn.Linear(50,10)\n",
        "\n",
        "    def forward(self, x):\n",
        "        x = x.view((-1, 28*28))\n",
        "        x = self.fc(x)\n",
        "        x = self.relu1(x)\n",
        "        x = self.fc2(x)\n",
        "        x = self.relu2(x)\n",
        "        x = self.fc3(x)\n",
        "        return x\n",
        "\n",
        "model = Net()\n",
        "\n",
        "model = model.to(device)\n",
        "model.train()"
      ]
    },
    {
      "cell_type": "code",
      "execution_count": null,
      "metadata": {
        "id": "OmxQfb0rfXlc"
      },
      "outputs": [],
      "source": [
        "def test_model(model):\n",
        "    model.eval()\n",
        "    with torch.no_grad():\n",
        "        correct = 0\n",
        "        total = 0\n",
        "        for data in test_loader:\n",
        "            images, labels = data\n",
        "            images, labels = images.to(device), labels.to(device)\n",
        "            outputs = model(images)\n",
        "            _, predicted = torch.max(outputs.data, 1)\n",
        "            total += labels.size(0)\n",
        "            correct += (predicted == labels).sum().item()\n",
        "        print(f'Natural accuracy: {100 * correct / total}')"
      ]
    },
    {
      "cell_type": "code",
      "execution_count": null,
      "metadata": {
        "id": "_2ZmDqiaAxLS"
      },
      "outputs": [],
      "source": [
        "# HW1\n",
        "\n",
        "def fgsm(model, x, labels, eps_step, targeted):\n",
        "    model.eval()\n",
        "    x.requires_grad_()\n",
        "    outputs = model(x)\n",
        "    loss = F.cross_entropy(outputs, labels)\n",
        "    model.zero_grad()\n",
        "    loss.backward()\n",
        "    adv_x = x + (-1 if targeted else +1) * eps_step * x.grad.sign()\n",
        "    return torch.clamp(adv_x, 0, 1)\n",
        "\n",
        "def pgd_untargeted(model, x, y, k, eps, eps_step):\n",
        "    model.eval()\n",
        "    lb = x - eps\n",
        "    ub = x + eps\n",
        "    for i in range(k):\n",
        "        x = fgsm(model, x, y, eps_step, targeted=False).detach()\n",
        "        x = torch.clamp(x, lb, ub)\n",
        "    return x"
      ]
    },
    {
      "cell_type": "code",
      "execution_count": null,
      "metadata": {
        "id": "-zBaVo77Ao6t"
      },
      "outputs": [],
      "source": [
        "# HW1\n",
        "def test_model_on_attacks(model, attack='pgd', attack_epochs=20, eps=0.1, c=1, num_examples_show=0):\n",
        "    model.eval()\n",
        "\n",
        "    correct = 0\n",
        "    total = 0\n",
        "    original_images_list = []\n",
        "    attacked_images_list = []\n",
        "    labels_list = []\n",
        "    predictions_list = []\n",
        "    for data in test_loader:\n",
        "        images, labels = data\n",
        "        images, labels = images.to(device), labels.to(device)\n",
        "\n",
        "        correct_indices = torch.max(model(images), 1)[1] == labels\n",
        "        if attack == 'pgd':\n",
        "            images_attacked = pgd_untargeted(model, images, labels, attack_epochs, eps, 0.01)\n",
        "        else:\n",
        "            images_attacked = images\n",
        "\n",
        "        outputs = model(images_attacked)\n",
        "        _, predicted = torch.max(outputs.data, 1)\n",
        "        correct += (predicted == labels).sum().item()\n",
        "        total += labels.size(0)\n",
        "\n",
        "        # only attach images that were correctly classified to begin with\n",
        "        if num_examples_show:\n",
        "            original_images_list.append(images[correct_indices].cpu().detach().numpy())\n",
        "            attacked_images_list.append(images_attacked[correct_indices].cpu().detach().numpy())\n",
        "            labels_list.append(labels[correct_indices].cpu().detach().numpy())\n",
        "            predictions_list.append(predicted[correct_indices].cpu().detach().numpy())\n",
        "\n",
        "    if num_examples_show:\n",
        "        original_images_list = np.concatenate(original_images_list)\n",
        "        attacked_images_list = np.concatenate(attacked_images_list)\n",
        "        labels_list = np.concatenate(labels_list)\n",
        "        predictions_list = np.concatenate(predictions_list)\n",
        "\n",
        "        num_samples = min(num_examples_show, original_images_list.shape[0])\n",
        "        # only choose examples of images where the attack was successful\n",
        "        indices = np.where(predictions_list != labels_list)[0]\n",
        "        indices = indices[:num_samples]\n",
        "        for i in indices:\n",
        "            plt.figure(figsize=(5, 2.5))\n",
        "            plt.subplot(1, 2, 1)\n",
        "            plt.imshow(original_images_list[i].reshape(28, 28), cmap='gray')\n",
        "            plt.subplot(1, 2, 2)\n",
        "            plt.imshow(attacked_images_list[i].reshape(28, 28), cmap='gray')\n",
        "            plt.title(f'{\"Successful\" if predictions_list[i] != labels_list[i] else \"Unsuccessful\"} Attack: {predictions_list[i]}')\n",
        "            plt.show()\n",
        "    print(f'Robust accuracy on {attack} {eps} images: {100 * correct / total}')\n",
        "\n"
      ]
    },
    {
      "cell_type": "code",
      "execution_count": null,
      "metadata": {
        "id": "PRpHzsQrFXty"
      },
      "outputs": [],
      "source": [
        "def test_model_verified_accuracy(model, eps=0.1):\n",
        "    model.eval()\n",
        "\n",
        "    correct = 0\n",
        "    total = 0\n",
        "    for data in test_loader:\n",
        "        images, labels = data\n",
        "        images, labels = images.to(device), labels.to(device)\n",
        "\n",
        "        lower, upper = IBP_bounds(model, images.view(images.shape[0], -1), eps)\n",
        "        # count number of testing labels in batch where lb of the label is greater than the ub of any incorrect class\n",
        "        upper[torch.arange(images.shape[0]), labels] = -1e9\n",
        "        correct += (lower[torch.arange(images.shape[0]), labels] > upper.max(dim=-1)[0]).sum().item()\n",
        "        total += labels.size(0)\n",
        "\n",
        "    print(f'Verified accuracy: {100 * correct / total}')"
      ]
    },
    {
      "cell_type": "markdown",
      "metadata": {
        "id": "ZPMdfEhtR3zm"
      },
      "source": [
        "# Q1 main"
      ]
    },
    {
      "cell_type": "code",
      "execution_count": null,
      "metadata": {
        "id": "pqG0L35GsRLD"
      },
      "outputs": [],
      "source": [
        "def IBP_bounds(net, x0, eps):\n",
        "    lower = x0 - eps\n",
        "    upper = x0 + eps\n",
        "    num_layers = len(list(net.children()))\n",
        "    for i, layer in enumerate(net.children()):\n",
        "        if isinstance(layer, nn.Linear):\n",
        "            W = layer.weight\n",
        "            b = layer.bias\n",
        "            pos_W = torch.clamp(W, min=0)\n",
        "            neg_W = torch.clamp(W, max=0)\n",
        "            lower2 = upper @ neg_W.T + lower @ pos_W.T + b\n",
        "            upper2 = upper @ pos_W.T + lower @ neg_W.T + b\n",
        "            lower, upper = lower2, upper2\n",
        "        elif isinstance(layer, nn.ReLU):\n",
        "            lower = torch.clamp(lower, min=0)\n",
        "            upper = torch.clamp(upper, min=0)\n",
        "    return (lower, upper)\n"
      ]
    },
    {
      "cell_type": "code",
      "source": [
        "def train_nat_model(model, num_epochs):\n",
        "    criterion = nn.CrossEntropyLoss()\n",
        "    optimizer = optim.Adam(model.parameters(), lr=0.001)\n",
        "    for epoch in range(num_epochs):\n",
        "        model.train()\n",
        "        running_loss = 0.0\n",
        "        for i, data in enumerate(train_loader):\n",
        "            images, labels = data\n",
        "            images, labels = images.to(device), labels.to(device)\n",
        "            optimizer.zero_grad()\n",
        "            outputs = model(images)\n",
        "            loss = criterion(outputs, labels)\n",
        "            loss.backward()\n",
        "            optimizer.step()\n",
        "            running_loss += loss.item()\n",
        "        print(f'Epoch {epoch+1}/{num_epochs}, Loss: {running_loss/len(train_loader):.3f}')"
      ],
      "metadata": {
        "id": "ukQF8uW99Z8k"
      },
      "execution_count": null,
      "outputs": []
    },
    {
      "cell_type": "code",
      "execution_count": null,
      "metadata": {
        "id": "dWi5tMGreqmK"
      },
      "outputs": [],
      "source": [
        "def train_robust_model(model, num_epochs):\n",
        "    criterion = nn.CrossEntropyLoss()\n",
        "    optimizer = optim.Adam(model.parameters(), lr=0.001)\n",
        "    kappa = 1\n",
        "    eps = 0\n",
        "\n",
        "    for epoch in range(num_epochs):\n",
        "        model.train()\n",
        "\n",
        "        running_loss = 0.0\n",
        "        for i, data in enumerate(train_loader):\n",
        "            images, labels = data\n",
        "            images, labels = images.to(device), labels.to(device)\n",
        "            batch_size = images.shape[0]\n",
        "\n",
        "            optimizer.zero_grad()\n",
        "            outputs = model(images)\n",
        "\n",
        "            ibp_lb, ibp_ub = IBP_bounds(model, images.view(batch_size, -1), eps)\n",
        "            z = ibp_ub # this is a pointer, careful\n",
        "            z[torch.arange(batch_size), labels] = ibp_lb[torch.arange(batch_size), labels]\n",
        "            z = torch.softmax(z, dim=-1)\n",
        "            loss = kappa * criterion(outputs, labels) + (1 - kappa) * criterion(z, labels)\n",
        "\n",
        "            loss.backward()\n",
        "            optimizer.step()\n",
        "            running_loss += loss.item()\n",
        "\n",
        "        print(f'Epoch {epoch+1}/{num_epochs}, Loss: {running_loss/len(train_loader):.3f}')\n",
        "\n",
        "        kappa -= 0.5 / (num_epochs-1)\n",
        "        eps += 0.1 / (num_epochs-1)\n"
      ]
    },
    {
      "cell_type": "code",
      "source": [
        "path = '/content/drive/MyDrive/CS521/weights_nat_HW3.pt'\n",
        "model_nat = Net()\n",
        "model_nat = model_nat.to(device)\n",
        "if not os.path.exists(path):\n",
        "    start_time = time.time()\n",
        "    train_model(model_nat, num_epochs=100)\n",
        "    torch.save(model_nat.state_dict(), path)\n",
        "    end_time = time.time()\n",
        "    print(\"Elapsed: \", end_time - start_time)\n",
        "else:\n",
        "    model_nat.load_state_dict(torch.load(path))"
      ],
      "metadata": {
        "colab": {
          "base_uri": "https://localhost:8080/"
        },
        "id": "ZQhz_34M9IRh",
        "outputId": "e49bbe02-5cea-4a63-f857-167a81c55dfd"
      },
      "execution_count": null,
      "outputs": [
        {
          "output_type": "stream",
          "name": "stdout",
          "text": [
            "Epoch 1/100, Loss: 0.413\n",
            "Epoch 2/100, Loss: 0.204\n",
            "Epoch 3/100, Loss: 0.167\n",
            "Epoch 4/100, Loss: 0.147\n",
            "Epoch 5/100, Loss: 0.140\n",
            "Epoch 6/100, Loss: 0.138\n",
            "Epoch 7/100, Loss: 0.140\n",
            "Epoch 8/100, Loss: 0.145\n",
            "Epoch 9/100, Loss: 0.151\n",
            "Epoch 10/100, Loss: 0.158\n",
            "Epoch 11/100, Loss: 0.165\n",
            "Epoch 12/100, Loss: 0.174\n",
            "Epoch 13/100, Loss: 0.181\n",
            "Epoch 14/100, Loss: 0.190\n",
            "Epoch 15/100, Loss: 0.200\n",
            "Epoch 16/100, Loss: 0.209\n",
            "Epoch 17/100, Loss: 0.218\n",
            "Epoch 18/100, Loss: 0.227\n",
            "Epoch 19/100, Loss: 0.239\n",
            "Epoch 20/100, Loss: 0.248\n",
            "Epoch 21/100, Loss: 0.258\n",
            "Epoch 22/100, Loss: 0.269\n",
            "Epoch 23/100, Loss: 0.280\n",
            "Epoch 24/100, Loss: 0.291\n",
            "Epoch 25/100, Loss: 0.302\n",
            "Epoch 26/100, Loss: 0.312\n",
            "Epoch 27/100, Loss: 0.324\n",
            "Epoch 28/100, Loss: 0.333\n",
            "Epoch 29/100, Loss: 0.345\n",
            "Epoch 30/100, Loss: 0.358\n",
            "Epoch 31/100, Loss: 0.369\n",
            "Epoch 32/100, Loss: 0.377\n",
            "Epoch 33/100, Loss: 0.390\n",
            "Epoch 34/100, Loss: 0.401\n",
            "Epoch 35/100, Loss: 0.415\n",
            "Epoch 36/100, Loss: 0.423\n",
            "Epoch 37/100, Loss: 0.436\n",
            "Epoch 38/100, Loss: 0.448\n",
            "Epoch 39/100, Loss: 0.459\n",
            "Epoch 40/100, Loss: 0.470\n",
            "Epoch 41/100, Loss: 0.482\n",
            "Epoch 42/100, Loss: 0.493\n",
            "Epoch 43/100, Loss: 0.505\n",
            "Epoch 44/100, Loss: 0.517\n",
            "Epoch 45/100, Loss: 0.529\n",
            "Epoch 46/100, Loss: 0.540\n",
            "Epoch 47/100, Loss: 0.551\n",
            "Epoch 48/100, Loss: 0.563\n",
            "Epoch 49/100, Loss: 0.573\n",
            "Epoch 50/100, Loss: 0.586\n",
            "Epoch 51/100, Loss: 0.598\n",
            "Epoch 52/100, Loss: 0.608\n",
            "Epoch 53/100, Loss: 0.624\n",
            "Epoch 54/100, Loss: 0.631\n",
            "Epoch 55/100, Loss: 0.646\n",
            "Epoch 56/100, Loss: 0.655\n",
            "Epoch 57/100, Loss: 0.668\n",
            "Epoch 58/100, Loss: 0.679\n",
            "Epoch 59/100, Loss: 0.689\n",
            "Epoch 60/100, Loss: 0.703\n",
            "Epoch 61/100, Loss: 0.714\n",
            "Epoch 62/100, Loss: 0.727\n",
            "Epoch 63/100, Loss: 0.737\n",
            "Epoch 64/100, Loss: 0.749\n",
            "Epoch 65/100, Loss: 0.762\n",
            "Epoch 66/100, Loss: 0.773\n",
            "Epoch 67/100, Loss: 0.784\n",
            "Epoch 68/100, Loss: 0.796\n",
            "Epoch 69/100, Loss: 0.806\n",
            "Epoch 70/100, Loss: 0.820\n",
            "Epoch 71/100, Loss: 0.831\n",
            "Epoch 72/100, Loss: 0.844\n",
            "Epoch 73/100, Loss: 0.854\n",
            "Epoch 74/100, Loss: 0.866\n",
            "Epoch 75/100, Loss: 0.878\n",
            "Epoch 76/100, Loss: 0.888\n",
            "Epoch 77/100, Loss: 0.900\n",
            "Epoch 78/100, Loss: 0.914\n",
            "Epoch 79/100, Loss: 0.925\n",
            "Epoch 80/100, Loss: 0.935\n",
            "Epoch 81/100, Loss: 0.948\n",
            "Epoch 82/100, Loss: 0.959\n",
            "Epoch 83/100, Loss: 0.971\n",
            "Epoch 84/100, Loss: 0.983\n",
            "Epoch 85/100, Loss: 0.995\n",
            "Epoch 86/100, Loss: 1.005\n",
            "Epoch 87/100, Loss: 1.019\n",
            "Epoch 88/100, Loss: 1.029\n",
            "Epoch 89/100, Loss: 1.043\n",
            "Epoch 90/100, Loss: 1.053\n",
            "Epoch 91/100, Loss: 1.063\n",
            "Epoch 92/100, Loss: 1.077\n",
            "Epoch 93/100, Loss: 1.088\n",
            "Epoch 94/100, Loss: 1.101\n",
            "Epoch 95/100, Loss: 1.112\n",
            "Epoch 96/100, Loss: 1.122\n",
            "Epoch 97/100, Loss: 1.135\n",
            "Epoch 98/100, Loss: 1.147\n",
            "Epoch 99/100, Loss: 1.158\n",
            "Epoch 100/100, Loss: 1.170\n",
            "Elapsed:  1083.454519033432\n"
          ]
        }
      ]
    },
    {
      "cell_type": "code",
      "execution_count": null,
      "metadata": {
        "colab": {
          "base_uri": "https://localhost:8080/"
        },
        "id": "EhfeZe1ZzOv2",
        "outputId": "77bb8275-d960-4422-f4c5-8cf734a112eb"
      },
      "outputs": [
        {
          "output_type": "stream",
          "name": "stdout",
          "text": [
            "Epoch 1/100, Loss: 0.404\n",
            "Epoch 2/100, Loss: 0.194\n",
            "Epoch 3/100, Loss: 0.159\n",
            "Epoch 4/100, Loss: 0.143\n",
            "Epoch 5/100, Loss: 0.138\n",
            "Epoch 6/100, Loss: 0.137\n",
            "Epoch 7/100, Loss: 0.140\n",
            "Epoch 8/100, Loss: 0.145\n",
            "Epoch 9/100, Loss: 0.151\n",
            "Epoch 10/100, Loss: 0.158\n",
            "Epoch 11/100, Loss: 0.165\n",
            "Epoch 12/100, Loss: 0.172\n",
            "Epoch 13/100, Loss: 0.182\n",
            "Epoch 14/100, Loss: 0.190\n",
            "Epoch 15/100, Loss: 0.200\n",
            "Epoch 16/100, Loss: 0.210\n",
            "Epoch 17/100, Loss: 0.219\n",
            "Epoch 18/100, Loss: 0.229\n",
            "Epoch 19/100, Loss: 0.240\n",
            "Epoch 20/100, Loss: 0.249\n",
            "Epoch 21/100, Loss: 0.259\n",
            "Epoch 22/100, Loss: 0.270\n",
            "Epoch 23/100, Loss: 0.280\n",
            "Epoch 24/100, Loss: 0.291\n",
            "Epoch 25/100, Loss: 0.302\n",
            "Epoch 26/100, Loss: 0.314\n",
            "Epoch 27/100, Loss: 0.324\n",
            "Epoch 28/100, Loss: 0.335\n",
            "Epoch 29/100, Loss: 0.348\n",
            "Epoch 30/100, Loss: 0.357\n",
            "Epoch 31/100, Loss: 0.368\n",
            "Epoch 32/100, Loss: 0.380\n",
            "Epoch 33/100, Loss: 0.391\n",
            "Epoch 34/100, Loss: 0.403\n",
            "Epoch 35/100, Loss: 0.414\n",
            "Epoch 36/100, Loss: 0.424\n",
            "Epoch 37/100, Loss: 0.437\n",
            "Epoch 38/100, Loss: 0.449\n",
            "Epoch 39/100, Loss: 0.459\n",
            "Epoch 40/100, Loss: 0.472\n",
            "Epoch 41/100, Loss: 0.481\n",
            "Epoch 42/100, Loss: 0.494\n",
            "Epoch 43/100, Loss: 0.506\n",
            "Epoch 44/100, Loss: 0.518\n",
            "Epoch 45/100, Loss: 0.529\n",
            "Epoch 46/100, Loss: 0.539\n",
            "Epoch 47/100, Loss: 0.552\n",
            "Epoch 48/100, Loss: 0.563\n",
            "Epoch 49/100, Loss: 0.575\n",
            "Epoch 50/100, Loss: 0.584\n",
            "Epoch 51/100, Loss: 0.599\n",
            "Epoch 52/100, Loss: 0.609\n",
            "Epoch 53/100, Loss: 0.622\n",
            "Epoch 54/100, Loss: 0.632\n",
            "Epoch 55/100, Loss: 0.645\n",
            "Epoch 56/100, Loss: 0.655\n",
            "Epoch 57/100, Loss: 0.668\n",
            "Epoch 58/100, Loss: 0.678\n",
            "Epoch 59/100, Loss: 0.690\n",
            "Epoch 60/100, Loss: 0.703\n",
            "Epoch 61/100, Loss: 0.713\n",
            "Epoch 62/100, Loss: 0.725\n",
            "Epoch 63/100, Loss: 0.738\n",
            "Epoch 64/100, Loss: 0.749\n",
            "Epoch 65/100, Loss: 0.760\n",
            "Epoch 66/100, Loss: 0.772\n",
            "Epoch 67/100, Loss: 0.783\n",
            "Epoch 68/100, Loss: 0.797\n",
            "Epoch 69/100, Loss: 0.807\n",
            "Epoch 70/100, Loss: 0.819\n",
            "Epoch 71/100, Loss: 0.830\n",
            "Epoch 72/100, Loss: 0.843\n",
            "Epoch 73/100, Loss: 0.854\n",
            "Epoch 74/100, Loss: 0.864\n",
            "Epoch 75/100, Loss: 0.877\n",
            "Epoch 76/100, Loss: 0.888\n",
            "Epoch 77/100, Loss: 0.899\n",
            "Epoch 78/100, Loss: 0.914\n",
            "Epoch 79/100, Loss: 0.922\n",
            "Epoch 80/100, Loss: 0.934\n",
            "Epoch 81/100, Loss: 0.947\n",
            "Epoch 82/100, Loss: 0.958\n",
            "Epoch 83/100, Loss: 0.970\n",
            "Epoch 84/100, Loss: 0.982\n",
            "Epoch 85/100, Loss: 0.994\n",
            "Epoch 86/100, Loss: 1.005\n",
            "Epoch 87/100, Loss: 1.018\n",
            "Epoch 88/100, Loss: 1.028\n",
            "Epoch 89/100, Loss: 1.039\n",
            "Epoch 90/100, Loss: 1.053\n",
            "Epoch 91/100, Loss: 1.064\n",
            "Epoch 92/100, Loss: 1.075\n",
            "Epoch 93/100, Loss: 1.086\n",
            "Epoch 94/100, Loss: 1.099\n",
            "Epoch 95/100, Loss: 1.111\n",
            "Epoch 96/100, Loss: 1.121\n",
            "Epoch 97/100, Loss: 1.134\n",
            "Epoch 98/100, Loss: 1.146\n",
            "Epoch 99/100, Loss: 1.156\n",
            "Epoch 100/100, Loss: 1.170\n",
            "Elapsed:  1079.7914416790009\n"
          ]
        }
      ],
      "source": [
        "path = '/content/drive/MyDrive/CS521/weights_ibp_HW3.pt'\n",
        "model_ibp = Net()\n",
        "model_ibp = model_ibp.to(device)\n",
        "if not os.path.exists(path):\n",
        "    start_time = time.time()\n",
        "    train_robust_model(model_ibp, num_epochs=100)\n",
        "    torch.save(model_ibp.state_dict(), path)\n",
        "    end_time = time.time()\n",
        "    print(\"Elapsed: \", end_time - start_time)\n",
        "else:\n",
        "    model_ibp.load_state_dict(torch.load(path))"
      ]
    },
    {
      "cell_type": "code",
      "execution_count": null,
      "metadata": {
        "colab": {
          "base_uri": "https://localhost:8080/"
        },
        "id": "jupNfIPIE9Oe",
        "outputId": "a8a610d7-1d08-4ce7-ac86-f8c72cf7a1ed"
      },
      "outputs": [
        {
          "output_type": "stream",
          "name": "stdout",
          "text": [
            "Natural trained results\n",
            "Natural accuracy: 96.81\n",
            "Robust accuracy on pgd 0.01 images: 93.72\n",
            "Robust accuracy on pgd 0.02 images: 87.08\n",
            "Robust accuracy on pgd 0.03 images: 75.47\n",
            "Robust accuracy on pgd 0.04 images: 63.66\n",
            "Robust accuracy on pgd 0.05 images: 52.7\n",
            "Robust accuracy on pgd 0.06 images: 43.2\n",
            "Robust accuracy on pgd 0.07 images: 35.61\n",
            "Robust accuracy on pgd 0.08 images: 29.88\n",
            "Robust accuracy on pgd 0.09 images: 25.54\n",
            "Robust accuracy on pgd 0.1 images: 22.41\n",
            "Verified accuracy: 23.65\n",
            "Verified accuracy: 17.45\n",
            "Verified accuracy: 16.45\n",
            "Verified accuracy: 15.69\n",
            "Verified accuracy: 14.77\n",
            "Verified accuracy: 13.74\n",
            "Verified accuracy: 12.51\n",
            "Verified accuracy: 11.24\n",
            "Verified accuracy: 10.08\n",
            "Verified accuracy: 8.85\n"
          ]
        }
      ],
      "source": [
        "print(\"Natural trained results\")\n",
        "test_model(model_nat)\n",
        "for eps_test in [0.01,0.02,0.03,0.04,0.05,0.06,0.07,0.08,0.09,0.10]:\n",
        "    test_model_on_attacks(model_nat, attack='pgd', eps=eps_test)\n",
        "for eps_test in [0.01,0.02,0.03,0.04,0.05,0.06,0.07,0.08,0.09,0.10]:\n",
        "    test_model_verified_accuracy(model_nat, eps=eps_test)"
      ]
    },
    {
      "cell_type": "code",
      "execution_count": null,
      "metadata": {
        "colab": {
          "base_uri": "https://localhost:8080/"
        },
        "id": "sDLyMN7EFAGC",
        "outputId": "031b5537-83ee-455c-d5ce-ea6adabba8e6"
      },
      "outputs": [
        {
          "output_type": "stream",
          "name": "stdout",
          "text": [
            "IBP trained results\n",
            "Natural accuracy: 96.91\n",
            "Robust accuracy on pgd 0.01 images: 93.89\n",
            "Robust accuracy on pgd 0.02 images: 88.76\n",
            "Robust accuracy on pgd 0.03 images: 79.44\n",
            "Robust accuracy on pgd 0.04 images: 67.29\n",
            "Robust accuracy on pgd 0.05 images: 55.57\n",
            "Robust accuracy on pgd 0.06 images: 46.28\n",
            "Robust accuracy on pgd 0.07 images: 38.97\n",
            "Robust accuracy on pgd 0.08 images: 32.74\n",
            "Robust accuracy on pgd 0.09 images: 28.01\n",
            "Robust accuracy on pgd 0.1 images: 24.36\n",
            "Verified accuracy: 23.37\n",
            "Verified accuracy: 17.12\n",
            "Verified accuracy: 16.09\n",
            "Verified accuracy: 15.34\n",
            "Verified accuracy: 14.4\n",
            "Verified accuracy: 13.34\n",
            "Verified accuracy: 12.21\n",
            "Verified accuracy: 11.05\n",
            "Verified accuracy: 9.66\n",
            "Verified accuracy: 8.61\n"
          ]
        }
      ],
      "source": [
        "print(\"IBP trained results\")\n",
        "test_model(model_ibp)\n",
        "for eps_test in [0.01,0.02,0.03,0.04,0.05,0.06,0.07,0.08,0.09,0.10]:\n",
        "    test_model_on_attacks(model_ibp, attack='pgd', eps=eps_test)\n",
        "for eps_test in [0.01,0.02,0.03,0.04,0.05,0.06,0.07,0.08,0.09,0.10]:\n",
        "    test_model_verified_accuracy(model_ibp, eps=eps_test)"
      ]
    },
    {
      "cell_type": "code",
      "source": [
        "test_model_on_attacks(model_ibp, attack='pgd', eps=0.02, num_examples_show=10)"
      ],
      "metadata": {
        "colab": {
          "base_uri": "https://localhost:8080/",
          "height": 1000
        },
        "id": "ae8Wnu0hKYoD",
        "outputId": "1051c633-6963-4530-a605-f2277b3a8a0c"
      },
      "execution_count": null,
      "outputs": [
        {
          "output_type": "display_data",
          "data": {
            "text/plain": [
              "<Figure size 500x250 with 2 Axes>"
            ],
            "image/png": "[encoded data removed]"
          },
          "metadata": {}
        },
        {
          "output_type": "display_data",
          "data": {
            "text/plain": [
              "<Figure size 500x250 with 2 Axes>"
            ],
            "image/png": "[encoded data removed]"
          },
          "metadata": {}
        },
        {
          "output_type": "display_data",
          "data": {
            "text/plain": [
              "<Figure size 500x250 with 2 Axes>"
            ],
            "image/png": "[encoded data removed]"
          },
          "metadata": {}
        },
        {
          "output_type": "display_data",
          "data": {
            "text/plain": [
              "<Figure size 500x250 with 2 Axes>"
            ],
            "image/png": "[encoded data removed]"
          },
          "metadata": {}
        },
        {
          "output_type": "display_data",
          "data": {
            "text/plain": [
              "<Figure size 500x250 with 2 Axes>"
            ],
            "image/png": "[encoded data removed]"
          },
          "metadata": {}
        },
        {
          "output_type": "display_data",
          "data": {
            "text/plain": [
              "<Figure size 500x250 with 2 Axes>"
            ],
            "image/png": "[encoded data removed]"
          },
          "metadata": {}
        },
        {
          "output_type": "display_data",
          "data": {
            "text/plain": [
              "<Figure size 500x250 with 2 Axes>"
            ],
            "image/png": "[encoded data removed]"
          },
          "metadata": {}
        },
        {
          "output_type": "display_data",
          "data": {
            "text/plain": [
              "<Figure size 500x250 with 2 Axes>"
            ],
            "image/png": "[encoded data removed]"
          },
          "metadata": {}
        },
        {
          "output_type": "display_data",
          "data": {
            "text/plain": [
              "<Figure size 500x250 with 2 Axes>"
            ],
            "image/png": "[encoded data removed]"
          },
          "metadata": {}
        },
        {
          "output_type": "display_data",
          "data": {
            "text/plain": [
              "<Figure size 500x250 with 2 Axes>"
            ],
            "image/png": "[encoded data removed]"
          },
          "metadata": {}
        },
        {
          "output_type": "stream",
          "name": "stdout",
          "text": [
            "Robust accuracy on pgd 0.02 images: 88.76\n"
          ]
        }
      ]
    },
    {
      "cell_type": "markdown",
      "metadata": {
        "id": "2XQ6tDCOX7LI"
      },
      "source": [
        "# Q2 Setup part 1\n",
        "Libraries installation, imports"
      ]
    },
    {
      "cell_type": "code",
      "execution_count": null,
      "metadata": {
        "colab": {
          "base_uri": "https://localhost:8080/"
        },
        "id": "LSe5_I2V8lsK",
        "outputId": "6f37a3f4-4839-4e8d-c8a8-2df7b5276ce9"
      },
      "outputs": [
        {
          "output_type": "stream",
          "name": "stdout",
          "text": [
            "\u001b[31mERROR: pip's dependency resolver does not currently take into account all the packages that are installed. This behaviour is the source of the following dependency conflicts.\n",
            "torchaudio 2.5.0+cu121 requires torch==2.5.0, but you have torch 2.3.0 which is incompatible.\u001b[0m\u001b[31m\n",
            "\u001b[0m"
          ]
        }
      ],
      "source": [
        "!pip install torch==2.3.0 torchtext==0.18.0 torchvision torchdata portalocker>=2.0.0"
      ]
    },
    {
      "cell_type": "code",
      "execution_count": null,
      "metadata": {
        "colab": {
          "base_uri": "https://localhost:8080/"
        },
        "id": "nvzGhUx99GIb",
        "outputId": "93c59087-1b20-4fe7-f81b-ad6a9fa2d145"
      },
      "outputs": [
        {
          "output_type": "stream",
          "name": "stdout",
          "text": [
            "/content/drive/MyDrive/CS521\n"
          ]
        }
      ],
      "source": [
        "%cd /content/drive/MyDrive/CS521"
      ]
    },
    {
      "cell_type": "code",
      "execution_count": null,
      "metadata": {
        "id": "mOeJE2bAV1LZ"
      },
      "outputs": [],
      "source": [
        "import torch\n",
        "import torch.nn as nn\n",
        "import torch.optim as optim\n",
        "from torch.utils.data import Dataset, DataLoader\n",
        "from torchtext.datasets import IMDB\n",
        "from collections import Counter\n",
        "import time\n",
        "import torch.nn.functional as F\n",
        "import os"
      ]
    },
    {
      "cell_type": "code",
      "execution_count": null,
      "metadata": {
        "id": "7bYUmSG0D9P3"
      },
      "outputs": [],
      "source": [
        "use_cuda = True\n",
        "device = torch.device(\"cuda\" if use_cuda else \"cpu\")"
      ]
    },
    {
      "cell_type": "markdown",
      "metadata": {
        "id": "4GKddK_67XjN"
      },
      "source": [
        "# Q2 Setup part 2\n",
        "Model definition, dataset prep"
      ]
    },
    {
      "cell_type": "code",
      "execution_count": null,
      "metadata": {
        "colab": {
          "base_uri": "https://localhost:8080/"
        },
        "id": "Fv1TXlxjoRgJ",
        "outputId": "1acaf7c4-0794-4489-aec9-09e1c911db74"
      },
      "outputs": [
        {
          "output_type": "execute_result",
          "data": {
            "text/plain": [
              "(12500, 12500)"
            ]
          },
          "metadata": {},
          "execution_count": 7
        }
      ],
      "source": [
        "cnt1 = 0\n",
        "cnt2 = 0\n",
        "for label, line in IMDB(split='test'):\n",
        "    if label == 1: cnt1 += 1\n",
        "    else: cnt2 += 1\n",
        "cnt1, cnt2"
      ]
    },
    {
      "cell_type": "code",
      "execution_count": null,
      "metadata": {
        "colab": {
          "base_uri": "https://localhost:8080/"
        },
        "id": "YrtOW-FJ2xni",
        "outputId": "c1cbf234-1600-4ee1-dc1d-f63b82aa03c4"
      },
      "outputs": [
        {
          "output_type": "execute_result",
          "data": {
            "text/plain": [
              "280618"
            ]
          },
          "metadata": {},
          "execution_count": 9
        }
      ],
      "source": [
        "train_iter = IMDB(split='train')\n",
        "imdbtoken_to_id = {}\n",
        "imdbtoken_to_id['<PAD>'] = 0\n",
        "for label, line in train_iter:\n",
        "    for token in line.split():\n",
        "        if token not in imdbtoken_to_id:\n",
        "            imdbtoken_to_id[token] = len(imdbtoken_to_id)\n",
        "len(imdbtoken_to_id)"
      ]
    },
    {
      "cell_type": "code",
      "execution_count": null,
      "metadata": {
        "colab": {
          "base_uri": "https://localhost:8080/"
        },
        "id": "pgUKBMUnWXDq",
        "outputId": "b1d31b3d-e4eb-4842-b3ef-22cbca06e7dd"
      },
      "outputs": [
        {
          "output_type": "execute_result",
          "data": {
            "text/plain": [
              "85246"
            ]
          },
          "metadata": {},
          "execution_count": 10
        }
      ],
      "source": [
        "embeddings = {}\n",
        "d_embed = 300\n",
        "with open('glove.840B.300d.txt', 'r') as f:\n",
        "    for line in f:\n",
        "        glove_line = line.strip().split()\n",
        "        glove_token = \"\".join(glove_line[:-d_embed])\n",
        "        glove_emb = torch.tensor([float(x) for x in glove_line[-d_embed:]], dtype=torch.float32)\n",
        "        if glove_token in imdbtoken_to_id:\n",
        "            embeddings[glove_token] = glove_emb\n",
        "len(embeddings)"
      ]
    },
    {
      "cell_type": "code",
      "execution_count": null,
      "metadata": {
        "id": "lfLu2vzybBYJ"
      },
      "outputs": [],
      "source": [
        "d_embed = 300\n",
        "d_vocab = len(imdbtoken_to_id)\n",
        "embedding_matrix = torch.zeros(d_vocab, d_embed)\n",
        "\n",
        "for word, id in imdbtoken_to_id.items():\n",
        "    if word in embeddings:\n",
        "        embedding_matrix[id] = embeddings[word]\n",
        "\n",
        "mean_embed = torch.mean(embedding_matrix, dim=0)\n",
        "embedding_matrix[0] = mean_embed"
      ]
    },
    {
      "cell_type": "code",
      "execution_count": null,
      "metadata": {
        "id": "zLXU7r9dS-HE"
      },
      "outputs": [],
      "source": [
        "embedding_matrix = embedding_matrix.to(device)"
      ]
    },
    {
      "cell_type": "code",
      "execution_count": null,
      "metadata": {
        "id": "SY-lgUJZ-UsI"
      },
      "outputs": [],
      "source": [
        "class IMDBDataset(Dataset):\n",
        "    def __init__(self, data_iter, vocab, max_length):\n",
        "        self.vocab = vocab\n",
        "        self.max_length = max_length\n",
        "        self.samples = []\n",
        "\n",
        "        for label, line in data_iter:\n",
        "            tokens = line.split(' ')\n",
        "            indices = [vocab.get(token, vocab['<PAD>']) for token in tokens]\n",
        "            if len(indices) < max_length:\n",
        "                indices += [vocab['<PAD>']] * (max_length - len(indices))\n",
        "            else:\n",
        "                indices = indices[:max_length]\n",
        "            label_tensor = torch.tensor(label, dtype=torch.long) - 1  # Convert label to (0,1) instead of (1,2)\n",
        "            self.samples.append((torch.tensor(indices, dtype=torch.long), label_tensor))\n",
        "\n",
        "    def __len__(self):\n",
        "        return len(self.samples)\n",
        "\n",
        "    def __getitem__(self, idx):\n",
        "        return self.samples[idx]\n",
        "\n",
        "seq_length = 200\n",
        "train_dataset = IMDBDataset(IMDB(split='train'), imdbtoken_to_id, seq_length)\n",
        "test_dataset = IMDBDataset(IMDB(split='test'), imdbtoken_to_id, seq_length)\n",
        "\n",
        "train_loader = DataLoader(train_dataset, batch_size=32, shuffle=True)\n",
        "test_loader = DataLoader(test_dataset, batch_size=32)\n"
      ]
    },
    {
      "cell_type": "code",
      "execution_count": null,
      "metadata": {
        "id": "qnXNK8uyQz1a"
      },
      "outputs": [],
      "source": [
        "class SentimentNet(nn.Module):\n",
        "    def __init__(self, vocab_size, embedding_dim, pretrained_embeddings, seq_length):\n",
        "        super(SentimentNet, self).__init__()\n",
        "        self.seq_length = seq_length\n",
        "\n",
        "        self.embedding = nn.Embedding(vocab_size, embedding_dim)\n",
        "        self.embedding.weight.data.copy_(pretrained_embeddings)\n",
        "        self.embedding.weight.requires_grad = False\n",
        "\n",
        "        self.linear_emb = nn.Linear(embedding_dim, embedding_dim)\n",
        "        self.relu_emb = nn.ReLU()\n",
        "\n",
        "        self.mean_linear = nn.Linear(self.seq_length, 1, bias=False)\n",
        "        with torch.no_grad():\n",
        "            self.mean_linear.weight.fill_(1.0 / self.seq_length)\n",
        "        self.mean_linear.weight.requires_grad = False\n",
        "\n",
        "        self.fc1 = nn.Linear(embedding_dim, 100)\n",
        "        self.relu1 = nn.ReLU()\n",
        "        self.fc2 = nn.Linear(100, 2)\n",
        "\n",
        "    def forward(self, x):\n",
        "        x = self.embedding(x)\n",
        "        x = self.relu_emb(self.linear_emb(x))\n",
        "\n",
        "        # x0 = x.mean(dim=1)\n",
        "        x = x.transpose(1, 2)\n",
        "        x = self.mean_linear(x)\n",
        "        x = x.transpose(1, 2)\n",
        "        # assert torch.allclose(x, x0.unsqueeze(1))\n",
        "\n",
        "        x = self.relu1(self.fc1(x))\n",
        "        x = self.fc2(x)\n",
        "        return x.squeeze(1)\n",
        "\n",
        "    def forward_from_embedding(self, x):\n",
        "        x = x.transpose(1, 2)\n",
        "        x = self.mean_linear(x)\n",
        "        x = x.transpose(1, 2)\n",
        "\n",
        "        x = self.relu1(self.fc1(x))\n",
        "        x = self.fc2(x)\n",
        "        return x.squeeze(1)\n"
      ]
    },
    {
      "cell_type": "markdown",
      "source": [
        "# Q2 Setup part 3\n",
        "Natural training, natural testing, empirical robustness testing, verified robustness testing"
      ],
      "metadata": {
        "id": "9E2xFaPC13HK"
      }
    },
    {
      "cell_type": "code",
      "execution_count": null,
      "metadata": {
        "id": "zve2w1hNtajy"
      },
      "outputs": [],
      "source": [
        "def test_natural_acc(model, data_loader):\n",
        "    model.eval()\n",
        "    correct = 0\n",
        "    total = 0\n",
        "    with torch.no_grad():\n",
        "        for batch_inputs, batch_labels in data_loader:\n",
        "            batch_inputs, batch_labels = batch_inputs.to(device), batch_labels.to(device)\n",
        "            outputs = model(batch_inputs)\n",
        "            _, predicted = torch.max(outputs, 1)\n",
        "            total += batch_labels.size(0)\n",
        "            correct += (predicted == batch_labels).sum().item()\n",
        "    print(f'Natural accuracy: {correct / total}')"
      ]
    },
    {
      "cell_type": "code",
      "execution_count": null,
      "metadata": {
        "id": "Agmtz5V8b32P"
      },
      "outputs": [],
      "source": [
        "def test_model_verified_accuracy(model, eps=0.1):\n",
        "    model.eval()\n",
        "    correct = 0\n",
        "    total = 0\n",
        "    for data in test_loader:\n",
        "        images, labels = data\n",
        "        images, labels = images.to(device), labels.to(device)\n",
        "\n",
        "        lower, upper = IBP_bounds_IMDB(model, model.embedding(images), eps)\n",
        "        # count number of testing labels in batch where lb of the label is greater than the ub of any incorrect class\n",
        "        upper[torch.arange(images.shape[0]), labels] = -1e9\n",
        "        correct += (lower[torch.arange(images.shape[0]), labels] > upper.max(dim=-1)[0]).sum().item()\n",
        "        total += labels.size(0)\n",
        "\n",
        "    print(f'Verified accuracy: {100 * correct / total}')"
      ]
    },
    {
      "cell_type": "code",
      "execution_count": null,
      "metadata": {
        "id": "O2vcquj1-XGX"
      },
      "outputs": [],
      "source": [
        "def fgsm_IMDB(model, x_embed, labels, eps_step, targeted):\n",
        "    model.eval()\n",
        "    x_embed.requires_grad_()\n",
        "    outputs = model.forward_from_embedding(x_embed)\n",
        "    loss = F.cross_entropy(outputs, labels)\n",
        "    model.zero_grad()\n",
        "    loss.backward()\n",
        "    adv_x = x_embed + (-1 if targeted else +1) * eps_step * x_embed.grad.sign()\n",
        "    return torch.clamp(adv_x, 0, 1)\n",
        "\n",
        "def pgd_untargeted_IMDB(model, x, y, k, eps, eps_step):\n",
        "    model.eval()\n",
        "    x_embed = model.embedding(x)\n",
        "    lb = x_embed - eps\n",
        "    ub = x_embed + eps\n",
        "    for i in range(k):\n",
        "        x = fgsm(model, x_embed, y, eps_step, targeted=False).detach()\n",
        "        x = torch.clamp(x, lb, ub)\n",
        "    return x"
      ]
    },
    {
      "cell_type": "code",
      "execution_count": null,
      "metadata": {
        "id": "VVIJeo2bRULR"
      },
      "outputs": [],
      "source": [
        "def train_IMDB_nat(model, num_epochs):\n",
        "    model.train()\n",
        "    criterion = nn.CrossEntropyLoss()\n",
        "    optimizer = optim.Adam(model.parameters())\n",
        "\n",
        "    for epoch in range(num_epochs):\n",
        "        model.train()\n",
        "        total_loss = 0\n",
        "        for batch_inputs, batch_labels in train_loader:\n",
        "            batch_inputs, batch_labels = batch_inputs.to(device), batch_labels.to(device)\n",
        "            optimizer.zero_grad()\n",
        "            outputs = model(batch_inputs)\n",
        "            loss = criterion(outputs, batch_labels)\n",
        "            loss.backward()\n",
        "            optimizer.step()\n",
        "            total_loss += loss.item()\n",
        "        avg_loss = total_loss / len(train_loader)\n",
        "        print(f\"Epoch {epoch+1}/{num_epochs}, Loss: {avg_loss:.4f}\")"
      ]
    },
    {
      "cell_type": "code",
      "execution_count": null,
      "metadata": {
        "id": "gdybII2pIoI1"
      },
      "outputs": [],
      "source": [
        "def test_IMDB_model_on_PGD(model, attack_epochs=20, eps=0.1):\n",
        "    model.eval()\n",
        "    correct = 0\n",
        "    total = 0\n",
        "    original_images_list = []\n",
        "    attacked_images_list = []\n",
        "    labels_list = []\n",
        "    predictions_list = []\n",
        "    for batch_inputs, batch_labels in test_loader:\n",
        "        batch_inputs, batch_labels = batch_inputs.to(device), batch_labels.to(device)\n",
        "\n",
        "        correct_indices = torch.max(model(batch_inputs), 1)[1] == batch_labels\n",
        "        inputs_attacked = pgd_untargeted(model, batch_inputs, batch_labels, attack_epochs, eps, eps/10)\n",
        "\n",
        "        outputs = model.forward_from_embedding(inputs_attacked)\n",
        "        _, predicted = torch.max(outputs.data, 1)\n",
        "        correct += (predicted == batch_labels).sum().item()\n",
        "        total += batch_labels.size(0)\n",
        "\n",
        "    print(f'Robust accuracy on PGD {eps} images: {100 * correct / total}')"
      ]
    },
    {
      "cell_type": "markdown",
      "metadata": {
        "id": "GVIB_86NQyed"
      },
      "source": [
        "# Q2 main"
      ]
    },
    {
      "cell_type": "code",
      "execution_count": null,
      "metadata": {
        "id": "PHmnDETGKnDz"
      },
      "outputs": [],
      "source": [
        "def IBP_bounds_IMDB(net, embed_x0, eps):\n",
        "    lower = embed_x0 - eps\n",
        "    upper = embed_x0 + eps\n",
        "    num_layers = len(list(net.children()))\n",
        "    for i, layer in enumerate(net.children()):\n",
        "        if i == 0: continue # skip embed layer\n",
        "        if isinstance(layer, nn.Linear):\n",
        "            W = layer.weight\n",
        "            b = layer.bias\n",
        "            if layer == net.mean_linear:\n",
        "                lower = lower.transpose(1, 2)\n",
        "                upper = upper.transpose(1, 2)\n",
        "                b = torch.zeros(W.shape[0], device=device)\n",
        "            pos_W = torch.clamp(W, min=0)\n",
        "            neg_W = torch.clamp(W, max=0)\n",
        "            lower2 = upper @ neg_W.T + lower @ pos_W.T + b\n",
        "            upper2 = upper @ pos_W.T + lower @ neg_W.T + b\n",
        "            lower, upper = lower2, upper2\n",
        "            if layer == net.mean_linear:\n",
        "                lower = lower.transpose(1, 2).squeeze(1)\n",
        "                upper = upper.transpose(1, 2).squeeze(1)\n",
        "        elif isinstance(layer, nn.ReLU):\n",
        "            lower = torch.clamp(lower, min=0)\n",
        "            upper = torch.clamp(upper, min=0)\n",
        "        else:\n",
        "            raise NotImplementedError\n",
        "    return (lower, upper)\n"
      ]
    },
    {
      "cell_type": "code",
      "execution_count": null,
      "metadata": {
        "colab": {
          "base_uri": "https://localhost:8080/"
        },
        "id": "niDOHjdsAeio",
        "outputId": "13bc7c6b-a813-45ab-b108-48561ea41cae"
      },
      "outputs": [
        {
          "output_type": "stream",
          "name": "stdout",
          "text": [
            "Epoch 1/10, Loss: 0.4383\n",
            "Epoch 2/10, Loss: 0.3717\n",
            "Epoch 3/10, Loss: 0.3482\n",
            "Epoch 4/10, Loss: 0.3362\n",
            "Epoch 5/10, Loss: 0.3244\n",
            "Epoch 6/10, Loss: 0.3139\n",
            "Epoch 7/10, Loss: 0.3077\n",
            "Epoch 8/10, Loss: 0.2904\n",
            "Epoch 9/10, Loss: 0.2790\n",
            "Epoch 10/10, Loss: 0.2681\n",
            "Elapsed:  18.18229651451111\n"
          ]
        }
      ],
      "source": [
        "model_nat = SentimentNet(d_vocab, d_embed, embedding_matrix, seq_length)\n",
        "model_nat = model_nat.to(device)\n",
        "if not os.path.exists('/content/drive/MyDrive/CS521/weights_IMDB_nat.pt'):\n",
        "    start_time = time.time()\n",
        "    train_IMDB_nat(model_nat, num_epochs=10)\n",
        "    end_time = time.time()\n",
        "    print(\"Elapsed: \", end_time - start_time)\n",
        "    torch.save(model_nat.state_dict(), '/content/drive/MyDrive/CS521/weights_IMDB_nat.pt')\n",
        "else:\n",
        "    model_nat.load_state_dict(torch.load('/content/drive/MyDrive/CS521/weights_IMDB_nat.pt'))"
      ]
    },
    {
      "cell_type": "code",
      "execution_count": null,
      "metadata": {
        "id": "SO40VlvdwsmS"
      },
      "outputs": [],
      "source": [
        "def robust_training_IMDB(model, num_epochs):\n",
        "    criterion = nn.CrossEntropyLoss()\n",
        "    optimizer = optim.Adam(model.parameters())\n",
        "    kappa = 1\n",
        "    eps = 0\n",
        "    start_time = time.time()\n",
        "    for epoch in range(num_epochs):\n",
        "        model.train()\n",
        "        running_loss = 0.0\n",
        "        for batch_inputs, batch_labels in train_loader:\n",
        "            batch_inputs, batch_labels = batch_inputs.to(device), batch_labels.to(device)\n",
        "            optimizer.zero_grad()\n",
        "            batch_size = batch_inputs.shape[0]\n",
        "\n",
        "            outputs = model(batch_inputs)\n",
        "\n",
        "            with torch.no_grad():\n",
        "                batch_inputs_embed = model.embedding(batch_inputs)\n",
        "            ibp_lb, ibp_ub = IBP_bounds_IMDB(model, batch_inputs_embed, eps)\n",
        "            z = ibp_ub # this is a pointer, careful\n",
        "            z[torch.arange(batch_size), batch_labels] = ibp_lb[torch.arange(batch_size), batch_labels]\n",
        "            z = torch.softmax(z, dim=-1)\n",
        "            loss = kappa * criterion(outputs, batch_labels) + (1 - kappa) * criterion(z, batch_labels)\n",
        "\n",
        "            loss.backward()\n",
        "            optimizer.step()\n",
        "            running_loss += loss.item()\n",
        "\n",
        "        print(f'Epoch {epoch+1}/{num_epochs}, Loss: {running_loss/len(train_loader):.3f}')\n",
        "\n",
        "        kappa -= 0.5 / (num_epochs-1)\n",
        "        eps += (emb_range * 0.05) / (num_epochs-1)\n",
        "\n",
        "    end_time = time.time()\n",
        "    print(\"Elapsed: \", end_time - start_time)\n"
      ]
    },
    {
      "cell_type": "code",
      "execution_count": null,
      "metadata": {
        "colab": {
          "base_uri": "https://localhost:8080/"
        },
        "id": "bbB6S0b0LGHq",
        "outputId": "5d73791c-5db1-45cc-82c1-7c49ad0e3484"
      },
      "outputs": [
        {
          "output_type": "stream",
          "name": "stdout",
          "text": [
            "Epoch 1/10, Loss: 0.444\n",
            "Epoch 2/10, Loss: 0.425\n",
            "Epoch 3/10, Loss: 0.455\n",
            "Epoch 4/10, Loss: 0.499\n",
            "Epoch 5/10, Loss: 0.543\n",
            "Epoch 6/10, Loss: 0.592\n",
            "Epoch 7/10, Loss: 0.640\n",
            "Epoch 8/10, Loss: 0.691\n",
            "Epoch 9/10, Loss: 0.742\n",
            "Epoch 10/10, Loss: 0.792\n",
            "Elapsed:  45.383729696273804\n"
          ]
        }
      ],
      "source": [
        "model_ibp = SentimentNet(d_vocab, d_embed, embedding_matrix, seq_length)\n",
        "model_ibp = model_ibp.to(device)\n",
        "robust_training_IMDB(model_ibp, num_epochs=10)"
      ]
    },
    {
      "cell_type": "code",
      "execution_count": null,
      "metadata": {
        "colab": {
          "base_uri": "https://localhost:8080/"
        },
        "id": "GS5VSVy6DDfE",
        "outputId": "7b0ebe19-8625-472e-a096-9b1c10113bad"
      },
      "outputs": [
        {
          "output_type": "stream",
          "name": "stdout",
          "text": [
            "Naturally trained results\n",
            "Natural accuracy: 0.85876\n",
            "\n",
            "Robust accuracy on PGD 0.08334600448608398 images: 44.492\n",
            "Robust accuracy on PGD 0.16669200897216796 images: 8.576\n",
            "Robust accuracy on PGD 0.25003801345825194 images: 0.02\n",
            "Robust accuracy on PGD 0.3333840179443359 images: 0.0\n",
            "Robust accuracy on PGD 0.41673002243041996 images: 0.0\n",
            "\n",
            "Verified accuracy: 67.432\n",
            "Verified accuracy: 41.364\n",
            "Verified accuracy: 18.652\n",
            "Verified accuracy: 5.876\n",
            "Verified accuracy: 1.212\n"
          ]
        }
      ],
      "source": [
        "print(\"Naturally trained results\")\n",
        "test_accuracy = test_natural_acc(model_nat, test_loader)\n",
        "print()\n",
        "# epsilon should be around this order of magnitude, considering we use around epsilon=0.1 for MNIST of [0,1]\n",
        "emb_range = (embedding_matrix.max() - embedding_matrix.min()).item()\n",
        "for eps_test in [0.01,0.02,0.03,0.04,0.05]:\n",
        "    epsilon = eps_test * emb_range\n",
        "    test_IMDB_model_on_PGD(model_nat, eps=epsilon)\n",
        "print()\n",
        "for eps_test in [0.01,0.02,0.03,0.04,0.05]:\n",
        "    epsilon = eps_test * emb_range / 100\n",
        "    test_model_verified_accuracy(model_nat, eps=epsilon)"
      ]
    },
    {
      "cell_type": "code",
      "execution_count": null,
      "metadata": {
        "colab": {
          "base_uri": "https://localhost:8080/"
        },
        "id": "c6jeCu_zT2v2",
        "outputId": "b73ee553-8f2b-4773-def1-537c409a6884"
      },
      "outputs": [
        {
          "output_type": "stream",
          "name": "stdout",
          "text": [
            "Robust trained results\n",
            "Natural accuracy: 0.85664\n",
            "\n",
            "Robust accuracy on PGD 0.08334600448608398 images: 44.324\n",
            "Robust accuracy on PGD 0.16669200897216796 images: 33.004\n",
            "Robust accuracy on PGD 0.25003801345825194 images: 16.676\n",
            "Robust accuracy on PGD 0.3333840179443359 images: 1.148\n",
            "Robust accuracy on PGD 0.41673002243041996 images: 0.004\n",
            "\n",
            "Verified accuracy: 68.46\n",
            "Verified accuracy: 43.368\n",
            "Verified accuracy: 20.652\n",
            "Verified accuracy: 6.952\n",
            "Verified accuracy: 1.496\n"
          ]
        }
      ],
      "source": [
        "print(\"Robust trained results\")\n",
        "test_natural_acc(model_ibp, test_loader)\n",
        "print()\n",
        "emb_range = (embedding_matrix.max() - embedding_matrix.min()).item()\n",
        "for eps_test in [0.01,0.02,0.03,0.04,0.05]:\n",
        "    epsilon = eps_test * emb_range\n",
        "    test_IMDB_model_on_PGD(model_ibp, eps=epsilon)\n",
        "print()\n",
        "for eps_test in [0.01,0.02,0.03,0.04,0.05]:\n",
        "    epsilon = eps_test * emb_range / 100\n",
        "    test_model_verified_accuracy(model_ibp, eps=epsilon)"
      ]
    }
  ],
  "metadata": {
    "accelerator": "GPU",
    "colab": {
      "collapsed_sections": [
        "2XQ6tDCOX7LI",
        "9E2xFaPC13HK",
        "GVIB_86NQyed"
      ],
      "gpuType": "A100",
      "machine_shape": "hm",
      "provenance": [],
      "toc_visible": true,
      "include_colab_link": true
    },
    "kernelspec": {
      "display_name": "Python 3",
      "name": "python3"
    },
    "language_info": {
      "codemirror_mode": {
        "name": "ipython",
        "version": 3
      },
      "file_extension": ".py",
      "mimetype": "text/x-python",
      "name": "python",
      "nbconvert_exporter": "python",
      "pygments_lexer": "ipython3",
      "version": "3.10.12"
    }
  },
  "nbformat": 4,
  "nbformat_minor": 0
}