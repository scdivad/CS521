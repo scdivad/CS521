{
  "cells": [
    {
      "cell_type": "markdown",
      "metadata": {
        "id": "Whsg1XX_OZs6"
      },
      "source": [
        "# Boilerplate\n",
        "\n",
        "Package installation, loading, and dataloaders. There's also a simple model defined. You can change it your favourite architecture if you want."
      ]
    },
    {
      "cell_type": "code",
      "execution_count": 1,
      "metadata": {
        "colab": {
          "base_uri": "https://localhost:8080/"
        },
        "id": "jmALG91XRvWx",
        "outputId": "7ed40d6f-6f03-4b41-e66e-ec152e791a8b"
      },
      "outputs": [
        {
          "output_type": "stream",
          "name": "stdout",
          "text": [
            "Mounted at /content/drive\n"
          ]
        }
      ],
      "source": [
        "from google.colab import drive\n",
        "drive.mount('/content/drive')"
      ]
    },
    {
      "cell_type": "code",
      "execution_count": 2,
      "metadata": {
        "colab": {
          "base_uri": "https://localhost:8080/"
        },
        "id": "R1domTvnONqD",
        "outputId": "1f63b778-2b5b-4e53-88d7-1d83c072ddf5"
      },
      "outputs": [
        {
          "output_type": "stream",
          "name": "stdout",
          "text": [
            "Downloading http://yann.lecun.com/exdb/mnist/train-images-idx3-ubyte.gz\n",
            "Failed to download (trying next):\n",
            "HTTP Error 403: Forbidden\n",
            "\n",
            "Downloading https://ossci-datasets.s3.amazonaws.com/mnist/train-images-idx3-ubyte.gz\n",
            "Downloading https://ossci-datasets.s3.amazonaws.com/mnist/train-images-idx3-ubyte.gz to mnist_data/MNIST/raw/train-images-idx3-ubyte.gz\n"
          ]
        },
        {
          "output_type": "stream",
          "name": "stderr",
          "text": [
            "100%|██████████| 9912422/9912422 [00:00<00:00, 51422567.22it/s]\n"
          ]
        },
        {
          "output_type": "stream",
          "name": "stdout",
          "text": [
            "Extracting mnist_data/MNIST/raw/train-images-idx3-ubyte.gz to mnist_data/MNIST/raw\n",
            "\n",
            "Downloading http://yann.lecun.com/exdb/mnist/train-labels-idx1-ubyte.gz\n",
            "Failed to download (trying next):\n",
            "HTTP Error 403: Forbidden\n",
            "\n",
            "Downloading https://ossci-datasets.s3.amazonaws.com/mnist/train-labels-idx1-ubyte.gz\n",
            "Downloading https://ossci-datasets.s3.amazonaws.com/mnist/train-labels-idx1-ubyte.gz to mnist_data/MNIST/raw/train-labels-idx1-ubyte.gz\n"
          ]
        },
        {
          "output_type": "stream",
          "name": "stderr",
          "text": [
            "100%|██████████| 28881/28881 [00:00<00:00, 1813001.48it/s]"
          ]
        },
        {
          "output_type": "stream",
          "name": "stdout",
          "text": [
            "Extracting mnist_data/MNIST/raw/train-labels-idx1-ubyte.gz to mnist_data/MNIST/raw\n",
            "\n",
            "Downloading http://yann.lecun.com/exdb/mnist/t10k-images-idx3-ubyte.gz\n"
          ]
        },
        {
          "output_type": "stream",
          "name": "stderr",
          "text": [
            "\n"
          ]
        },
        {
          "output_type": "stream",
          "name": "stdout",
          "text": [
            "Failed to download (trying next):\n",
            "HTTP Error 403: Forbidden\n",
            "\n",
            "Downloading https://ossci-datasets.s3.amazonaws.com/mnist/t10k-images-idx3-ubyte.gz\n",
            "Downloading https://ossci-datasets.s3.amazonaws.com/mnist/t10k-images-idx3-ubyte.gz to mnist_data/MNIST/raw/t10k-images-idx3-ubyte.gz\n"
          ]
        },
        {
          "output_type": "stream",
          "name": "stderr",
          "text": [
            "100%|██████████| 1648877/1648877 [00:00<00:00, 12425713.86it/s]\n"
          ]
        },
        {
          "output_type": "stream",
          "name": "stdout",
          "text": [
            "Extracting mnist_data/MNIST/raw/t10k-images-idx3-ubyte.gz to mnist_data/MNIST/raw\n",
            "\n",
            "Downloading http://yann.lecun.com/exdb/mnist/t10k-labels-idx1-ubyte.gz\n",
            "Failed to download (trying next):\n",
            "HTTP Error 403: Forbidden\n",
            "\n",
            "Downloading https://ossci-datasets.s3.amazonaws.com/mnist/t10k-labels-idx1-ubyte.gz\n",
            "Downloading https://ossci-datasets.s3.amazonaws.com/mnist/t10k-labels-idx1-ubyte.gz to mnist_data/MNIST/raw/t10k-labels-idx1-ubyte.gz\n"
          ]
        },
        {
          "output_type": "stream",
          "name": "stderr",
          "text": [
            "100%|██████████| 4542/4542 [00:00<00:00, 2891701.39it/s]"
          ]
        },
        {
          "output_type": "stream",
          "name": "stdout",
          "text": [
            "Extracting mnist_data/MNIST/raw/t10k-labels-idx1-ubyte.gz to mnist_data/MNIST/raw\n",
            "\n"
          ]
        },
        {
          "output_type": "stream",
          "name": "stderr",
          "text": [
            "\n"
          ]
        },
        {
          "output_type": "execute_result",
          "data": {
            "text/plain": [
              "Sequential(\n",
              "  (0): Normalize()\n",
              "  (1): Net(\n",
              "    (fc): Linear(in_features=784, out_features=200, bias=True)\n",
              "    (fc2): Linear(in_features=200, out_features=10, bias=True)\n",
              "  )\n",
              ")"
            ]
          },
          "metadata": {},
          "execution_count": 2
        }
      ],
      "source": [
        "# !pip install tensorboardX\n",
        "\n",
        "import torch\n",
        "import torch.nn as nn\n",
        "import torch.optim as optim\n",
        "import torch.nn.functional as F\n",
        "import numpy as np\n",
        "import time\n",
        "import matplotlib.pyplot as plt\n",
        "\n",
        "from torchvision import datasets, transforms\n",
        "# from tensorboardX import SummaryWriter\n",
        "\n",
        "use_cuda = False\n",
        "device = torch.device(\"cuda\" if use_cuda else \"cpu\")\n",
        "batch_size = 64\n",
        "\n",
        "np.random.seed(42)\n",
        "torch.manual_seed(42)\n",
        "\n",
        "\n",
        "## Dataloaders\n",
        "train_dataset = datasets.MNIST('mnist_data/', train=True, download=True, transform=transforms.Compose(\n",
        "    [transforms.ToTensor()]\n",
        "))\n",
        "test_dataset = datasets.MNIST('mnist_data/', train=False, download=True, transform=transforms.Compose(\n",
        "    [transforms.ToTensor()]\n",
        "))\n",
        "\n",
        "train_loader = torch.utils.data.DataLoader(train_dataset, batch_size=batch_size, shuffle=True)\n",
        "test_loader = torch.utils.data.DataLoader(test_dataset, batch_size=batch_size, shuffle=False)\n",
        "\n",
        "## Simple NN. You can change this if you want. If you change it, mention the architectural details in your report.\n",
        "class Net(nn.Module):\n",
        "    def __init__(self):\n",
        "        super(Net, self).__init__()\n",
        "        self.fc = nn.Linear(28*28, 200)\n",
        "        self.fc2 = nn.Linear(200,10)\n",
        "\n",
        "    def forward(self, x):\n",
        "        x = x.view((-1, 28*28))\n",
        "        x = F.relu(self.fc(x))\n",
        "        x = self.fc2(x)\n",
        "        x = F.softmax(x, dim=-1) # added softmax for probabilities\n",
        "        return x\n",
        "\n",
        "class Normalize(nn.Module):\n",
        "    def forward(self, x):\n",
        "        return (x - 0.1307)/0.3081\n",
        "\n",
        "# Add the data normalization as a first \"layer\" to the network\n",
        "# this allows us to search for adverserial examples to the real image, rather than\n",
        "# to the normalized image\n",
        "model = nn.Sequential(Normalize(), Net())\n",
        "\n",
        "model = model.to(device)\n",
        "model.train()"
      ]
    },
    {
      "cell_type": "markdown",
      "metadata": {
        "id": "NCmWfZHTO8Oo"
      },
      "source": [
        "# Implement the Attacks\n",
        "\n",
        "Functions are given a simple useful signature that you can start with. Feel free to extend the signature as you see fit.\n",
        "\n",
        "You may find it useful to create a 'batched' version of PGD that you can use to create the adversarial attack."
      ]
    },
    {
      "cell_type": "code",
      "execution_count": 5,
      "metadata": {
        "id": "EZjvA49yONqP"
      },
      "outputs": [],
      "source": [
        "# The last argument 'targeted' can be used to toggle between a targeted and untargeted attack.\n",
        "# param labels should be y if target is false and target labels if target is true\n",
        "def fgsm(model, x, labels, eps_step, targeted):\n",
        "    model.eval()\n",
        "    x = x.detach().requires_grad_()\n",
        "    outputs = model(x)\n",
        "    loss = F.cross_entropy(outputs, labels)\n",
        "    model.zero_grad()\n",
        "    loss.backward()\n",
        "    adv_x = x + (-1 if targeted else +1) * eps_step * x.grad.sign()\n",
        "    return torch.clamp(adv_x, 0, 1)\n",
        "\n",
        "def pgd_untargeted(model, x, y, k, eps, eps_step):\n",
        "    model.eval()\n",
        "    lb = x - eps\n",
        "    ub = x + eps\n",
        "    for i in range(k):\n",
        "        x = fgsm(model, x, y, eps_step, targeted=False)\n",
        "        x = torch.clamp(x, lb, ub)\n",
        "    return x"
      ]
    },
    {
      "cell_type": "code",
      "execution_count": 6,
      "metadata": {
        "id": "ihuJwOEIZY_t"
      },
      "outputs": [],
      "source": [
        "def cw_attack(model, x, y, k, c, target):\n",
        "    model.eval()\n",
        "    eta = torch.zeros_like(x, requires_grad=True)\n",
        "    optimizer = torch.optim.Adam([eta], lr=0.01)\n",
        "\n",
        "    tau = torch.ones(x.shape[0])\n",
        "    decay_factor = 0.9\n",
        "\n",
        "    for _ in range(k):\n",
        "        adv_x = torch.clamp(x + eta, 0, 1)\n",
        "        outputs = model(adv_x)\n",
        "        obj_t = (0.5 - outputs[:, target]).clamp(min=0)\n",
        "        norm_proxy = (torch.abs(eta) - tau.reshape(-1, 1, 1, 1).expand_as(eta)).clamp(min=0).sum() # better way is to do unpacking *()\n",
        "        loss = norm_proxy + c * torch.sum(obj_t)\n",
        "\n",
        "        optimizer.zero_grad()\n",
        "        loss.backward()\n",
        "        optimizer.step()\n",
        "\n",
        "        with torch.no_grad():\n",
        "            eta.clamp_(-x, 1 - x)\n",
        "\n",
        "        tau = torch.where(eta.view(eta.shape[0], -1).norm(float('inf'), dim=-1) <= tau, tau * decay_factor, tau)\n",
        "\n",
        "    adv_x = torch.clamp(x + eta, 0, 1)\n",
        "    return adv_x\n"
      ]
    },
    {
      "cell_type": "markdown",
      "metadata": {
        "id": "0Mja_AB4RykO"
      },
      "source": [
        "# Implement Adversarial Training"
      ]
    },
    {
      "cell_type": "code",
      "execution_count": null,
      "metadata": {
        "id": "V-sw8yKYONqQ"
      },
      "outputs": [],
      "source": [
        "def train_model(model, num_epochs_natural, num_epochs_adv=0, attack='pgd', eps=0.1):\n",
        "    # TODO: implement this function that trains a given model on the MNIST dataset.\n",
        "    # this is a general-purpose function for both standard training and adversarial training.\n",
        "    # (toggle enable_defense parameter to switch between training schemes)\n",
        "    assert num_epochs_adv == 0 or attack in ['pgd']\n",
        "\n",
        "    criterion = nn.CrossEntropyLoss()\n",
        "    optimizer = optim.SGD(model.parameters(), lr=0.001, momentum=0.9)\n",
        "\n",
        "    for epoch in range(num_epochs_natural):\n",
        "        for i, data in enumerate(train_loader, 0): # train loader is shuffled\n",
        "            images, labels = data\n",
        "            images, labels = images.to(device), labels.to(device)\n",
        "            optimizer.zero_grad()\n",
        "            outputs = model(images)\n",
        "            loss = criterion(outputs, labels)\n",
        "            loss.backward()\n",
        "            optimizer.step()\n",
        "\n",
        "    for epoch in range(num_epochs_adv):\n",
        "        for i, data in enumerate(train_loader, 0):\n",
        "            images, labels = data\n",
        "            images, labels = images.to(device), labels.to(device)\n",
        "            if attack == 'pgd':\n",
        "                images = pgd_untargeted(model, images, labels, 10, eps, eps_step=0.01)\n",
        "            optimizer.zero_grad()\n",
        "            outputs = model(images)\n",
        "            loss = criterion(outputs, labels)\n",
        "            loss.backward()\n",
        "            optimizer.step()\n",
        "\n"
      ]
    },
    {
      "cell_type": "code",
      "execution_count": 7,
      "metadata": {
        "id": "OmxQfb0rfXlc"
      },
      "outputs": [],
      "source": [
        "def test_model(model):\n",
        "    model.eval()\n",
        "    correct = 0\n",
        "    total = 0\n",
        "    for data in test_loader:\n",
        "        images, labels = data\n",
        "        images, labels = images.to(device), labels.to(device)\n",
        "        outputs = model(images)\n",
        "        _, predicted = torch.max(outputs.data, 1)\n",
        "        total += labels.size(0)\n",
        "        correct += (predicted == labels).sum().item()\n",
        "    print(f'Accuracy on images: {100 * correct / total}')\n",
        "\n",
        "def test_model_on_attacks(model, attack='pgd', attack_epochs=20, eps=0.1, c=1, num_examples_show=0):\n",
        "    model.eval()\n",
        "\n",
        "    correct = 0\n",
        "    total = 0\n",
        "    original_images_list = []\n",
        "    attacked_images_list = []\n",
        "    labels_list = []\n",
        "    predictions_list = []\n",
        "    for data in test_loader:\n",
        "        images, labels = data\n",
        "        images, labels = images.to(device), labels.to(device)\n",
        "\n",
        "        correct_indices = torch.max(model(images), 1)[1] == labels\n",
        "\n",
        "        if attack == 'pgd':\n",
        "            images_attacked = pgd_untargeted(model, images, labels, attack_epochs, eps, 0.01)\n",
        "        elif attack == 'fgsm':\n",
        "            targets = torch.randint(0, 10, (labels.shape[0],)).to(device)\n",
        "            images_attacked = fgsm(model, images, targets, eps, True)\n",
        "        elif attack == 'cw':\n",
        "            targets = torch.randint(0, 10, (labels.shape[0],)).to(device)\n",
        "            images_attacked = cw_attack(model, images, labels, attack_epochs*2, c, targets)\n",
        "        else:\n",
        "            images_attacked = images\n",
        "\n",
        "        outputs = model(images_attacked)\n",
        "        _, predicted = torch.max(outputs.data, 1)\n",
        "        correct += (predicted == labels).sum().item()\n",
        "        total += labels.size(0)\n",
        "\n",
        "        # only attach images that were correctly classified to begin with\n",
        "        if num_examples_show:\n",
        "            original_images_list.append(images[correct_indices].cpu().detach().numpy())\n",
        "            attacked_images_list.append(images_attacked[correct_indices].cpu().detach().numpy())\n",
        "            labels_list.append(labels[correct_indices].cpu().detach().numpy())\n",
        "            predictions_list.append(predicted[correct_indices].cpu().detach().numpy())\n",
        "\n",
        "    if num_examples_show:\n",
        "        original_images_list = np.concatenate(original_images_list)\n",
        "        attacked_images_list = np.concatenate(attacked_images_list)\n",
        "        labels_list = np.concatenate(labels_list)\n",
        "        predictions_list = np.concatenate(predictions_list)\n",
        "\n",
        "        num_samples = min(num_examples_show, original_images_list.shape[0])\n",
        "        indices = np.random.choice(original_images_list.shape[0], num_samples, replace=False)\n",
        "\n",
        "        for i in indices:\n",
        "            plt.figure(figsize=(5, 2.5))\n",
        "            plt.subplot(1, 2, 1)\n",
        "            plt.imshow(original_images_list[i].reshape(28, 28), cmap='gray')\n",
        "            plt.subplot(1, 2, 2)\n",
        "            plt.imshow(attacked_images_list[i].reshape(28, 28), cmap='gray')\n",
        "            plt.title(f'{\"Successful\" if predictions_list[i] != labels_list[i] else \"Unsuccessful\"} Attack: {predictions_list[i]}')\n",
        "            plt.show()\n",
        "    print(f'Accuracy on {attack} {eps} images: {100 * correct / total}')\n",
        "\n"
      ]
    },
    {
      "cell_type": "code",
      "execution_count": null,
      "metadata": {
        "colab": {
          "background_save": true
        },
        "collapsed": true,
        "id": "Evrb7puyfXld",
        "scrolled": true
      },
      "outputs": [],
      "source": [
        "## Normal training\n",
        "model = nn.Sequential(Normalize(), Net())\n",
        "model = model.to(device)\n",
        "model.train()\n",
        "\n",
        "train_model(model, num_epochs_natural=60)\n",
        "torch.save(model.state_dict(), '/content/drive/MyDrive/CS521/weights_softmax_60.pt')"
      ]
    },
    {
      "cell_type": "code",
      "execution_count": null,
      "metadata": {
        "id": "0ymCB7J4z1XF"
      },
      "outputs": [],
      "source": [
        "## PGD adversarial training\n",
        "for eps in [0.05, 0.1, 0.15, 0.2]:\n",
        "    model = nn.Sequential(Normalize(), Net())\n",
        "    train_model(model, num_epochs_natural=30, num_epochs_adv=30, attack='pgd', eps=eps)\n",
        "    torch.save(model.state_dict(), f'/content/drive/MyDrive/CS521/weights_softmax_AT_pgd_{eps}.pt')"
      ]
    },
    {
      "cell_type": "markdown",
      "metadata": {
        "id": "ZPMdfEhtR3zm"
      },
      "source": [
        "# Study Accuracy, Quality, etc.\n",
        "\n",
        "Compare the various results and report your observations on the submission."
      ]
    },
    {
      "cell_type": "code",
      "execution_count": 8,
      "metadata": {
        "colab": {
          "base_uri": "https://localhost:8080/"
        },
        "id": "LRSGP-cW8A5Q",
        "outputId": "da36038a-f068-4077-bc7f-82b5521106bb"
      },
      "outputs": [
        {
          "output_type": "stream",
          "name": "stderr",
          "text": [
            "<ipython-input-8-9ec6ac78a888>:3: FutureWarning: You are using `torch.load` with `weights_only=False` (the current default value), which uses the default pickle module implicitly. It is possible to construct malicious pickle data which will execute arbitrary code during unpickling (See https://github.com/pytorch/pytorch/blob/main/SECURITY.md#untrusted-models for more details). In a future release, the default value for `weights_only` will be flipped to `True`. This limits the functions that could be executed during unpickling. Arbitrary objects will no longer be allowed to be loaded via this mode unless they are explicitly allowlisted by the user via `torch.serialization.add_safe_globals`. We recommend you start setting `weights_only=True` for any use case where you don't have full control of the loaded file. Please open an issue on GitHub for any issues related to this experimental feature.\n",
            "  model.load_state_dict(torch.load('/content/drive/MyDrive/CS521/weights_softmax_60.pt'))\n"
          ]
        },
        {
          "output_type": "execute_result",
          "data": {
            "text/plain": [
              "<All keys matched successfully>"
            ]
          },
          "metadata": {},
          "execution_count": 8
        }
      ],
      "source": [
        "model = nn.Sequential(Normalize(), Net())\n",
        "# model.load_state_dict(torch.load('/content/drive/MyDrive/CS521/weights_softmax.pt'))\n",
        "model.load_state_dict(torch.load('/content/drive/MyDrive/CS521/weights_softmax_60.pt'))"
      ]
    },
    {
      "cell_type": "code",
      "execution_count": 16,
      "metadata": {
        "colab": {
          "base_uri": "https://localhost:8080/"
        },
        "id": "QiJsCqJm6HTh",
        "outputId": "71295dc5-4074-4212-aaec-1cb68d07c00f"
      },
      "outputs": [
        {
          "output_type": "stream",
          "name": "stdout",
          "text": [
            "Accuracy on images: 94.41\n"
          ]
        }
      ],
      "source": [
        "test_model(model)"
      ]
    },
    {
      "cell_type": "code",
      "execution_count": 19,
      "metadata": {
        "colab": {
          "base_uri": "https://localhost:8080/"
        },
        "id": "Si7F5pBcfKIY",
        "outputId": "6bac4749-6636-494b-a719-1657238044ce"
      },
      "outputs": [
        {
          "output_type": "stream",
          "name": "stderr",
          "text": [
            "<ipython-input-19-6da8940a363b>:3: FutureWarning: You are using `torch.load` with `weights_only=False` (the current default value), which uses the default pickle module implicitly. It is possible to construct malicious pickle data which will execute arbitrary code during unpickling (See https://github.com/pytorch/pytorch/blob/main/SECURITY.md#untrusted-models for more details). In a future release, the default value for `weights_only` will be flipped to `True`. This limits the functions that could be executed during unpickling. Arbitrary objects will no longer be allowed to be loaded via this mode unless they are explicitly allowlisted by the user via `torch.serialization.add_safe_globals`. We recommend you start setting `weights_only=True` for any use case where you don't have full control of the loaded file. Please open an issue on GitHub for any issues related to this experimental feature.\n",
            "  model.load_state_dict(torch.load(f'/content/drive/MyDrive/CS521/weights_softmax.pt'))\n"
          ]
        },
        {
          "output_type": "stream",
          "name": "stdout",
          "text": [
            "Accuracy on cw 0.1 images: 43.12\n",
            "Accuracy on cw 0.1 images: 39.84\n",
            "Accuracy on cw 0.1 images: 39.04\n"
          ]
        }
      ],
      "source": [
        "for c in [10, 1000, 1000000]:\n",
        "    model = nn.Sequential(Normalize(), Net())\n",
        "    model.load_state_dict(torch.load(f'/content/drive/MyDrive/CS521/weights_softmax.pt'))\n",
        "    test_model_on_attacks(model, attack='cw', c=c)"
      ]
    },
    {
      "cell_type": "code",
      "source": [
        "for eps2 in [0, 0.05, 0.1, 0.15, 0.2]:\n",
        "    model = nn.Sequential(Normalize(), Net())\n",
        "    model.load_state_dict(torch.load(f'/content/drive/MyDrive/CS521/weights_softmax_60.pt'))\n",
        "    print(f'train {0}, attack: {eps2}: ', end='')\n",
        "    test_model_on_attacks(model, attack='pgd', eps=eps2)"
      ],
      "metadata": {
        "colab": {
          "base_uri": "https://localhost:8080/"
        },
        "id": "_Sm_zbuNuseL",
        "outputId": "31c52588-f446-404f-b781-80cff099c208"
      },
      "execution_count": null,
      "outputs": [
        {
          "output_type": "stream",
          "name": "stderr",
          "text": [
            "<ipython-input-11-f21025aa5646>:3: FutureWarning: You are using `torch.load` with `weights_only=False` (the current default value), which uses the default pickle module implicitly. It is possible to construct malicious pickle data which will execute arbitrary code during unpickling (See https://github.com/pytorch/pytorch/blob/main/SECURITY.md#untrusted-models for more details). In a future release, the default value for `weights_only` will be flipped to `True`. This limits the functions that could be executed during unpickling. Arbitrary objects will no longer be allowed to be loaded via this mode unless they are explicitly allowlisted by the user via `torch.serialization.add_safe_globals`. We recommend you start setting `weights_only=True` for any use case where you don't have full control of the loaded file. Please open an issue on GitHub for any issues related to this experimental feature.\n",
            "  model.load_state_dict(torch.load(f'/content/drive/MyDrive/CS521/weights_softmax_60.pt'))\n"
          ]
        },
        {
          "output_type": "stream",
          "name": "stdout",
          "text": [
            "train 0, attack: 0: Accuracy on pgd 0 images: 95.78\n",
            "train 0, attack: 0.05: Accuracy on pgd 0.05 images: 73.21\n",
            "train 0, attack: 0.1: Accuracy on pgd 0.1 images: 19.18\n",
            "train 0, attack: 0.15: Accuracy on pgd 0.15 images: 3.37\n",
            "train 0, attack: 0.2: Accuracy on pgd 0.2 images: 0.88\n"
          ]
        }
      ]
    },
    {
      "cell_type": "code",
      "execution_count": null,
      "metadata": {
        "colab": {
          "base_uri": "https://localhost:8080/"
        },
        "id": "-L93VdVIcS0l",
        "outputId": "4906bc8c-7425-4a64-e014-fbb3cadfe52d"
      },
      "outputs": [
        {
          "output_type": "stream",
          "name": "stderr",
          "text": [
            "<ipython-input-14-28fb44fdb115>:3: FutureWarning: You are using `torch.load` with `weights_only=False` (the current default value), which uses the default pickle module implicitly. It is possible to construct malicious pickle data which will execute arbitrary code during unpickling (See https://github.com/pytorch/pytorch/blob/main/SECURITY.md#untrusted-models for more details). In a future release, the default value for `weights_only` will be flipped to `True`. This limits the functions that could be executed during unpickling. Arbitrary objects will no longer be allowed to be loaded via this mode unless they are explicitly allowlisted by the user via `torch.serialization.add_safe_globals`. We recommend you start setting `weights_only=True` for any use case where you don't have full control of the loaded file. Please open an issue on GitHub for any issues related to this experimental feature.\n",
            "  model.load_state_dict(torch.load(f'/content/drive/MyDrive/CS521/weights_softmax_60.pt'))\n"
          ]
        },
        {
          "output_type": "stream",
          "name": "stdout",
          "text": [
            "train 0, c: 10: Accuracy on cw 0.1 images: 44.03\n",
            "train 0, c: 1000000: Accuracy on cw 0.1 images: 41.51\n"
          ]
        }
      ],
      "source": [
        "for c in [10, 1000000]:\n",
        "    model = nn.Sequential(Normalize(), Net())\n",
        "    model.load_state_dict(torch.load(f'/content/drive/MyDrive/CS521/weights_softmax_60.pt'))\n",
        "    print(f'train {0}, c: {c}: ', end='')\n",
        "    test_model_on_attacks(model, attack='cw', c=c, num_examples_show=0)"
      ]
    },
    {
      "cell_type": "code",
      "execution_count": null,
      "metadata": {
        "colab": {
          "base_uri": "https://localhost:8080/"
        },
        "id": "GHEAgFDUcx57",
        "outputId": "40504521-e631-42a6-d3d0-c3bb2834a1ce"
      },
      "outputs": [
        {
          "name": "stderr",
          "output_type": "stream",
          "text": [
            "<ipython-input-21-c945ead2ecda>:4: FutureWarning: You are using `torch.load` with `weights_only=False` (the current default value), which uses the default pickle module implicitly. It is possible to construct malicious pickle data which will execute arbitrary code during unpickling (See https://github.com/pytorch/pytorch/blob/main/SECURITY.md#untrusted-models for more details). In a future release, the default value for `weights_only` will be flipped to `True`. This limits the functions that could be executed during unpickling. Arbitrary objects will no longer be allowed to be loaded via this mode unless they are explicitly allowlisted by the user via `torch.serialization.add_safe_globals`. We recommend you start setting `weights_only=True` for any use case where you don't have full control of the loaded file. Please open an issue on GitHub for any issues related to this experimental feature.\n",
            "  model.load_state_dict(torch.load(f'/content/drive/MyDrive/CS521/weights_softmax_AT_pgd_{eps1}.pt'))\n"
          ]
        },
        {
          "name": "stdout",
          "output_type": "stream",
          "text": [
            "train 0.05, attack: 0: Accuracy on fgsm 0 images: 95.86\n",
            "train 0.05, attack: 0.05: Accuracy on fgsm 0.05 images: 89.68\n",
            "train 0.05, attack: 0.1: Accuracy on fgsm 0.1 images: 74.95\n",
            "train 0.05, attack: 0.15: Accuracy on fgsm 0.15 images: 42.85\n",
            "train 0.05, attack: 0.2: Accuracy on fgsm 0.2 images: 20.46\n",
            "train 0.1, attack: 0: Accuracy on fgsm 0 images: 86.05\n",
            "train 0.1, attack: 0.05: Accuracy on fgsm 0.05 images: 82.42\n",
            "train 0.1, attack: 0.1: Accuracy on fgsm 0.1 images: 75.22\n",
            "train 0.1, attack: 0.15: Accuracy on fgsm 0.15 images: 61.14\n",
            "train 0.1, attack: 0.2: Accuracy on fgsm 0.2 images: 40.49\n",
            "train 0.15, attack: 0: Accuracy on fgsm 0 images: 86.04\n",
            "train 0.15, attack: 0.05: Accuracy on fgsm 0.05 images: 82.21\n",
            "train 0.15, attack: 0.1: Accuracy on fgsm 0.1 images: 74.94\n",
            "train 0.15, attack: 0.15: Accuracy on fgsm 0.15 images: 60.66\n",
            "train 0.15, attack: 0.2: Accuracy on fgsm 0.2 images: 40.82\n",
            "train 0.2, attack: 0: Accuracy on fgsm 0 images: 85.88\n",
            "train 0.2, attack: 0.05: Accuracy on fgsm 0.05 images: 82.27\n",
            "train 0.2, attack: 0.1: Accuracy on fgsm 0.1 images: 74.91\n",
            "train 0.2, attack: 0.15: Accuracy on fgsm 0.15 images: 60.74\n",
            "train 0.2, attack: 0.2: Accuracy on fgsm 0.2 images: 40.61\n"
          ]
        }
      ],
      "source": [
        "for eps1 in [0.05, 0.1, 0.15, 0.2]:\n",
        "    for eps2 in [0, 0.05, 0.1, 0.15, 0.2]:\n",
        "        model = nn.Sequential(Normalize(), Net())\n",
        "        model.load_state_dict(torch.load(f'/content/drive/MyDrive/CS521/weights_softmax_AT_pgd_{eps1}.pt'))\n",
        "        print(f'train {eps1}, attack: {eps2}: ', end='')\n",
        "        test_model_on_attacks(model, attack='fgsm', eps=eps2)"
      ]
    },
    {
      "cell_type": "code",
      "execution_count": null,
      "metadata": {
        "colab": {
          "base_uri": "https://localhost:8080/"
        },
        "id": "YqzwoY0PcsUP",
        "outputId": "1cb2abdf-0317-4463-fc49-65f8e3071cf3"
      },
      "outputs": [
        {
          "name": "stderr",
          "output_type": "stream",
          "text": [
            "<ipython-input-17-650f21a29b27>:4: FutureWarning: You are using `torch.load` with `weights_only=False` (the current default value), which uses the default pickle module implicitly. It is possible to construct malicious pickle data which will execute arbitrary code during unpickling (See https://github.com/pytorch/pytorch/blob/main/SECURITY.md#untrusted-models for more details). In a future release, the default value for `weights_only` will be flipped to `True`. This limits the functions that could be executed during unpickling. Arbitrary objects will no longer be allowed to be loaded via this mode unless they are explicitly allowlisted by the user via `torch.serialization.add_safe_globals`. We recommend you start setting `weights_only=True` for any use case where you don't have full control of the loaded file. Please open an issue on GitHub for any issues related to this experimental feature.\n",
            "  model.load_state_dict(torch.load(f'/content/drive/MyDrive/CS521/weights_softmax_AT_pgd_{eps1}.pt'))\n"
          ]
        },
        {
          "name": "stdout",
          "output_type": "stream",
          "text": [
            "train 0.05, attack: 0: Accuracy on pgd 0 images: 95.86\n",
            "train 0.05, attack: 0.05: Accuracy on pgd 0.05 images: 89.37\n",
            "train 0.05, attack: 0.1: Accuracy on pgd 0.1 images: 71.93\n",
            "train 0.05, attack: 0.15: Accuracy on pgd 0.15 images: 32.91\n",
            "train 0.05, attack: 0.2: Accuracy on pgd 0.2 images: 10.94\n",
            "train 0.1, attack: 0: Accuracy on pgd 0 images: 86.05\n",
            "train 0.1, attack: 0.05: Accuracy on pgd 0.05 images: 82.3\n",
            "train 0.1, attack: 0.1: Accuracy on pgd 0.1 images: 74.26\n",
            "train 0.1, attack: 0.15: Accuracy on pgd 0.15 images: 56.49\n",
            "train 0.1, attack: 0.2: Accuracy on pgd 0.2 images: 29.24\n",
            "train 0.15, attack: 0: Accuracy on pgd 0 images: 86.04\n",
            "train 0.15, attack: 0.05: Accuracy on pgd 0.05 images: 82.06\n",
            "train 0.15, attack: 0.1: Accuracy on pgd 0.1 images: 73.79\n",
            "train 0.15, attack: 0.15: Accuracy on pgd 0.15 images: 56.12\n",
            "train 0.15, attack: 0.2: Accuracy on pgd 0.2 images: 28.82\n",
            "train 0.2, attack: 0: Accuracy on pgd 0 images: 85.88\n",
            "train 0.2, attack: 0.05: Accuracy on pgd 0.05 images: 82.14\n",
            "train 0.2, attack: 0.1: Accuracy on pgd 0.1 images: 73.7\n",
            "train 0.2, attack: 0.15: Accuracy on pgd 0.15 images: 56.16\n",
            "train 0.2, attack: 0.2: Accuracy on pgd 0.2 images: 29.31\n"
          ]
        }
      ],
      "source": [
        "for eps1 in [0.05, 0.1, 0.15, 0.2]:\n",
        "    for eps2 in [0, 0.05, 0.1, 0.15, 0.2]:\n",
        "        model = nn.Sequential(Normalize(), Net())\n",
        "        model.load_state_dict(torch.load(f'/content/drive/MyDrive/CS521/weights_softmax_AT_pgd_{eps1}.pt'))\n",
        "        print(f'train {eps1}, attack: {eps2}: ', end='')\n",
        "        test_model_on_attacks(model, attack='pgd', eps=eps2)"
      ]
    }
  ],
  "metadata": {
    "colab": {
      "collapsed_sections": [
        "Whsg1XX_OZs6"
      ],
      "provenance": []
    },
    "kernelspec": {
      "display_name": "Python 3 (ipykernel)",
      "language": "python",
      "name": "python3"
    },
    "language_info": {
      "codemirror_mode": {
        "name": "ipython",
        "version": 3
      },
      "file_extension": ".py",
      "mimetype": "text/x-python",
      "name": "python",
      "nbconvert_exporter": "python",
      "pygments_lexer": "ipython3",
      "version": "3.10.12"
    }
  },
  "nbformat": 4,
  "nbformat_minor": 0
}