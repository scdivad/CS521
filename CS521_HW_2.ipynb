{
  "cells": [
    {
      "cell_type": "markdown",
      "metadata": {
        "id": "Whsg1XX_OZs6"
      },
      "source": [
        "# Boilerplate and training\n"
      ]
    },
    {
      "cell_type": "code",
      "execution_count": null,
      "metadata": {
        "colab": {
          "base_uri": "https://localhost:8080/"
        },
        "id": "jmALG91XRvWx",
        "outputId": "da8310b2-1712-41c9-fbbd-0c9eb8e98548"
      },
      "outputs": [
        {
          "output_type": "stream",
          "name": "stdout",
          "text": [
            "Mounted at /content/drive\n"
          ]
        }
      ],
      "source": [
        "from google.colab import drive\n",
        "drive.mount('/content/drive')"
      ]
    },
    {
      "cell_type": "code",
      "execution_count": null,
      "metadata": {
        "colab": {
          "base_uri": "https://localhost:8080/"
        },
        "id": "R1domTvnONqD",
        "outputId": "2cd8fbeb-5afc-4808-d967-437fb09a93ab"
      },
      "outputs": [
        {
          "output_type": "stream",
          "name": "stdout",
          "text": [
            "Downloading http://yann.lecun.com/exdb/mnist/train-images-idx3-ubyte.gz\n",
            "Failed to download (trying next):\n",
            "HTTP Error 403: Forbidden\n",
            "\n",
            "Downloading https://ossci-datasets.s3.amazonaws.com/mnist/train-images-idx3-ubyte.gz\n",
            "Downloading https://ossci-datasets.s3.amazonaws.com/mnist/train-images-idx3-ubyte.gz to mnist_data/MNIST/raw/train-images-idx3-ubyte.gz\n"
          ]
        },
        {
          "output_type": "stream",
          "name": "stderr",
          "text": [
            "100%|██████████| 9912422/9912422 [00:00<00:00, 59604959.91it/s]\n"
          ]
        },
        {
          "output_type": "stream",
          "name": "stdout",
          "text": [
            "Extracting mnist_data/MNIST/raw/train-images-idx3-ubyte.gz to mnist_data/MNIST/raw\n",
            "\n",
            "Downloading http://yann.lecun.com/exdb/mnist/train-labels-idx1-ubyte.gz\n",
            "Failed to download (trying next):\n",
            "HTTP Error 403: Forbidden\n",
            "\n",
            "Downloading https://ossci-datasets.s3.amazonaws.com/mnist/train-labels-idx1-ubyte.gz\n",
            "Downloading https://ossci-datasets.s3.amazonaws.com/mnist/train-labels-idx1-ubyte.gz to mnist_data/MNIST/raw/train-labels-idx1-ubyte.gz\n"
          ]
        },
        {
          "output_type": "stream",
          "name": "stderr",
          "text": [
            "100%|██████████| 28881/28881 [00:00<00:00, 2139450.62it/s]"
          ]
        },
        {
          "output_type": "stream",
          "name": "stdout",
          "text": [
            "Extracting mnist_data/MNIST/raw/train-labels-idx1-ubyte.gz to mnist_data/MNIST/raw\n"
          ]
        },
        {
          "output_type": "stream",
          "name": "stderr",
          "text": [
            "\n"
          ]
        },
        {
          "output_type": "stream",
          "name": "stdout",
          "text": [
            "\n",
            "Downloading http://yann.lecun.com/exdb/mnist/t10k-images-idx3-ubyte.gz\n",
            "Failed to download (trying next):\n",
            "HTTP Error 403: Forbidden\n",
            "\n",
            "Downloading https://ossci-datasets.s3.amazonaws.com/mnist/t10k-images-idx3-ubyte.gz\n",
            "Downloading https://ossci-datasets.s3.amazonaws.com/mnist/t10k-images-idx3-ubyte.gz to mnist_data/MNIST/raw/t10k-images-idx3-ubyte.gz\n"
          ]
        },
        {
          "output_type": "stream",
          "name": "stderr",
          "text": [
            "100%|██████████| 1648877/1648877 [00:00<00:00, 14716917.05it/s]\n"
          ]
        },
        {
          "output_type": "stream",
          "name": "stdout",
          "text": [
            "Extracting mnist_data/MNIST/raw/t10k-images-idx3-ubyte.gz to mnist_data/MNIST/raw\n",
            "\n",
            "Downloading http://yann.lecun.com/exdb/mnist/t10k-labels-idx1-ubyte.gz\n",
            "Failed to download (trying next):\n",
            "HTTP Error 403: Forbidden\n",
            "\n",
            "Downloading https://ossci-datasets.s3.amazonaws.com/mnist/t10k-labels-idx1-ubyte.gz\n",
            "Downloading https://ossci-datasets.s3.amazonaws.com/mnist/t10k-labels-idx1-ubyte.gz to mnist_data/MNIST/raw/t10k-labels-idx1-ubyte.gz\n"
          ]
        },
        {
          "output_type": "stream",
          "name": "stderr",
          "text": [
            "100%|██████████| 4542/4542 [00:00<00:00, 8370179.60it/s]"
          ]
        },
        {
          "output_type": "stream",
          "name": "stdout",
          "text": [
            "Extracting mnist_data/MNIST/raw/t10k-labels-idx1-ubyte.gz to mnist_data/MNIST/raw\n",
            "\n"
          ]
        },
        {
          "output_type": "stream",
          "name": "stderr",
          "text": [
            "\n"
          ]
        },
        {
          "output_type": "execute_result",
          "data": {
            "text/plain": [
              "Sequential(\n",
              "  (0): Normalize()\n",
              "  (1): Net(\n",
              "    (fc): Linear(in_features=784, out_features=50, bias=True)\n",
              "    (relu1): ReLU()\n",
              "    (fc2): Linear(in_features=50, out_features=50, bias=True)\n",
              "    (relu2): ReLU()\n",
              "    (fc3): Linear(in_features=50, out_features=10, bias=True)\n",
              "  )\n",
              ")"
            ]
          },
          "metadata": {},
          "execution_count": 2
        }
      ],
      "source": [
        "import torch\n",
        "import torch.nn as nn\n",
        "import torch.optim as optim\n",
        "import torch.nn.functional as F\n",
        "import numpy as np\n",
        "import time\n",
        "import matplotlib.pyplot as plt\n",
        "\n",
        "from torchvision import datasets, transforms\n",
        "\n",
        "use_cuda = False\n",
        "device = torch.device(\"cuda\" if use_cuda else \"cpu\")\n",
        "batch_size = 64\n",
        "\n",
        "np.random.seed(42)\n",
        "torch.manual_seed(42)\n",
        "\n",
        "\n",
        "## Dataloaders\n",
        "train_dataset = datasets.MNIST('mnist_data/', train=True, download=True, transform=transforms.Compose(\n",
        "    [transforms.ToTensor()]\n",
        "))\n",
        "test_dataset = datasets.MNIST('mnist_data/', train=False, download=True, transform=transforms.Compose(\n",
        "    [transforms.ToTensor()]\n",
        "))\n",
        "\n",
        "train_loader = torch.utils.data.DataLoader(train_dataset, batch_size=batch_size, shuffle=True)\n",
        "test_loader = torch.utils.data.DataLoader(test_dataset, batch_size=batch_size, shuffle=False)\n",
        "\n",
        "class Net(nn.Module):\n",
        "    def __init__(self):\n",
        "        super(Net, self).__init__()\n",
        "        self.fc = nn.Linear(28*28, 50)\n",
        "        self.relu1 = nn.ReLU()\n",
        "        self.fc2 = nn.Linear(50,50)\n",
        "        self.relu2 = nn.ReLU()\n",
        "        self.fc3 = nn.Linear(50,10)\n",
        "\n",
        "    def forward(self, x):\n",
        "        x = x.view((-1, 28*28))\n",
        "        x = self.fc(x)\n",
        "        x = self.relu1(x)\n",
        "        x = self.fc2(x)\n",
        "        x = self.relu2(x)\n",
        "        x = self.fc3(x)\n",
        "        return x\n",
        "\n",
        "class Normalize(nn.Module):\n",
        "    def forward(self, x):\n",
        "        return (x - 0.1307)/0.3081\n",
        "\n",
        "# Add the data normalization as a first \"layer\" to the network\n",
        "model = nn.Sequential(Normalize(), Net())\n",
        "\n",
        "model = model.to(device)\n",
        "model.train()"
      ]
    },
    {
      "cell_type": "code",
      "execution_count": null,
      "metadata": {
        "id": "V-sw8yKYONqQ"
      },
      "outputs": [],
      "source": [
        "def train_model(model, num_epochs):\n",
        "    criterion = nn.CrossEntropyLoss()\n",
        "    optimizer = optim.SGD(model.parameters(), lr=0.001, momentum=0.9)\n",
        "\n",
        "    for epoch in range(num_epochs):\n",
        "        model.train()\n",
        "        running_loss = 0.0\n",
        "        for i, data in enumerate(train_loader, 0):\n",
        "            images, labels = data\n",
        "            images, labels = images.to(device), labels.to(device)\n",
        "\n",
        "            optimizer.zero_grad()\n",
        "            outputs = model(images)\n",
        "            loss = criterion(outputs, labels)\n",
        "            loss.backward()\n",
        "            optimizer.step()\n",
        "\n",
        "            running_loss += loss.item()\n",
        "\n",
        "        print(f'Epoch {epoch+1}/{num_epochs}, Loss: {running_loss/len(train_loader):.3f}')\n"
      ]
    },
    {
      "cell_type": "code",
      "execution_count": null,
      "metadata": {
        "id": "EhfeZe1ZzOv2"
      },
      "outputs": [],
      "source": [
        "# model = nn.Sequential(Normalize(), Net())\n",
        "# model = model.to(device)\n",
        "# model.train()\n",
        "\n",
        "# train_model(model, num_epochs=10)\n",
        "# torch.save(model.state_dict(), '/content/drive/MyDrive/CS521/weights_HW2.pt')"
      ]
    },
    {
      "cell_type": "code",
      "execution_count": null,
      "metadata": {
        "id": "OmxQfb0rfXlc"
      },
      "outputs": [],
      "source": [
        "def test_model(model):\n",
        "    model.eval()\n",
        "    with torch.no_grad():\n",
        "        correct = 0\n",
        "        total = 0\n",
        "        for data in test_loader:\n",
        "            images, labels = data\n",
        "            images, labels = images.to(device), labels.to(device)\n",
        "            outputs = model(images)\n",
        "            _, predicted = torch.max(outputs.data, 1)\n",
        "            total += labels.size(0)\n",
        "            correct += (predicted == labels).sum().item()\n",
        "        print(f'Accuracy on images: {100 * correct / total}')"
      ]
    },
    {
      "cell_type": "markdown",
      "metadata": {
        "id": "ZPMdfEhtR3zm"
      },
      "source": [
        "# Main part"
      ]
    },
    {
      "cell_type": "code",
      "execution_count": null,
      "metadata": {
        "colab": {
          "base_uri": "https://localhost:8080/"
        },
        "id": "LRSGP-cW8A5Q",
        "outputId": "8f79ae7a-ce2c-4c38-f3ba-f102dd940f93"
      },
      "outputs": [
        {
          "output_type": "stream",
          "name": "stderr",
          "text": [
            "<ipython-input-6-5174b9c87ff7>:2: FutureWarning: You are using `torch.load` with `weights_only=False` (the current default value), which uses the default pickle module implicitly. It is possible to construct malicious pickle data which will execute arbitrary code during unpickling (See https://github.com/pytorch/pytorch/blob/main/SECURITY.md#untrusted-models for more details). In a future release, the default value for `weights_only` will be flipped to `True`. This limits the functions that could be executed during unpickling. Arbitrary objects will no longer be allowed to be loaded via this mode unless they are explicitly allowlisted by the user via `torch.serialization.add_safe_globals`. We recommend you start setting `weights_only=True` for any use case where you don't have full control of the loaded file. Please open an issue on GitHub for any issues related to this experimental feature.\n",
            "  model.load_state_dict(torch.load('/content/drive/MyDrive/CS521/weights_HW2.pt'))\n"
          ]
        },
        {
          "output_type": "execute_result",
          "data": {
            "text/plain": [
              "<All keys matched successfully>"
            ]
          },
          "metadata": {},
          "execution_count": 6
        }
      ],
      "source": [
        "model = nn.Sequential(Normalize(), Net())\n",
        "model.load_state_dict(torch.load('/content/drive/MyDrive/CS521/weights_HW2.pt'))"
      ]
    },
    {
      "cell_type": "code",
      "execution_count": null,
      "metadata": {
        "colab": {
          "base_uri": "https://localhost:8080/"
        },
        "id": "QiJsCqJm6HTh",
        "outputId": "4972fcb5-83eb-49cb-e8f3-052c1d668db9"
      },
      "outputs": [
        {
          "output_type": "stream",
          "name": "stdout",
          "text": [
            "Accuracy on images: 95.86\n"
          ]
        }
      ],
      "source": [
        "test_model(model)"
      ]
    },
    {
      "cell_type": "code",
      "execution_count": null,
      "metadata": {
        "id": "pqG0L35GsRLD"
      },
      "outputs": [],
      "source": [
        "def IBP_bounds(model, x0, eps):\n",
        "    model.eval()\n",
        "\n",
        "    normalize = model[0]\n",
        "    lower = normalize(x0) - eps\n",
        "    upper = normalize(x0) + eps\n",
        "\n",
        "    net = model[1]\n",
        "    for layer in net.children():\n",
        "        if isinstance(layer, nn.Linear):\n",
        "            W = layer.weight.data\n",
        "            b = layer.bias.data\n",
        "            pos_W = torch.clamp(W, min=0)\n",
        "            neg_W = torch.clamp(W, max=0)\n",
        "            lower2 = neg_W @ upper + pos_W @ lower + b\n",
        "            upper2 = pos_W @ upper + neg_W @ lower + b\n",
        "            lower, upper = lower2, upper2\n",
        "        elif isinstance(layer, nn.ReLU):\n",
        "            lower = torch.clamp(lower, min=0)\n",
        "            upper = torch.clamp(upper, min=0)\n",
        "    return (lower, upper)"
      ]
    },
    {
      "cell_type": "code",
      "execution_count": null,
      "metadata": {
        "colab": {
          "base_uri": "https://localhost:8080/"
        },
        "id": "0wNJDtXXn069",
        "outputId": "6616f68e-d42e-4dec-ff09-37c3e46c392b"
      },
      "outputs": [
        {
          "output_type": "stream",
          "name": "stdout",
          "text": [
            "Success rate for eps=0.01: 0.962\n",
            "Success rate for eps=0.02: 0.946\n",
            "Success rate for eps=0.03: 0.928\n",
            "Success rate for eps=0.04: 0.874\n",
            "Success rate for eps=0.05: 0.794\n",
            "Success rate for eps=0.06: 0.661\n",
            "Success rate for eps=0.07: 0.588\n",
            "Success rate for eps=0.08: 0.487\n",
            "Success rate for eps=0.09: 0.425\n",
            "Success rate for eps=0.1: 0.376\n"
          ]
        }
      ],
      "source": [
        "k = 1000\n",
        "for eps in [0.01, 0.02, 0.03, 0.04, 0.05, 0.06, 0.07, 0.08, 0.09, 0.10]:\n",
        "    succ = 0\n",
        "    for i in range(k):\n",
        "        random_image, random_label = train_dataset[np.random.randint(0, len(train_dataset))]\n",
        "        if model(random_image).argmax() != random_label:\n",
        "            continue\n",
        "        # plt.imshow(random_image.squeeze(), cmap='gray')\n",
        "        # plt.show()\n",
        "        random_image = random_image.flatten()\n",
        "        original_logits = model(random_image)\n",
        "        with torch.no_grad():\n",
        "            lower, upper = IBP_bounds(model, random_image, eps)\n",
        "            assert ((lower - 1e-6) <= original_logits).all() and ((upper + 1e-6) >= original_logits).all()\n",
        "        succ += 1 if lower.argmax() == random_label else 0\n",
        "\n",
        "    print(f'Success rate for eps={eps}: {succ/k}')"
      ]
    },
    {
      "cell_type": "code",
      "source": [
        "k = 1000\n",
        "for eps in [0.01, 0.02, 0.03, 0.04, 0.05, 0.06, 0.07, 0.08, 0.09, 0.10]:\n",
        "    succ = 0\n",
        "    for i in range(k):\n",
        "        random_image, random_label = test_dataset[np.random.randint(0, len(test_dataset))]\n",
        "        if model(random_image).argmax() != random_label:\n",
        "            continue\n",
        "        # plt.imshow(random_image.squeeze(), cmap='gray')\n",
        "        # plt.show()\n",
        "        random_image = random_image.flatten()\n",
        "        correct = model(random_image).argmax()\n",
        "        original_logits = model(random_image)\n",
        "        with torch.no_grad():\n",
        "            lower, upper = IBP_bounds(model, random_image, eps)\n",
        "            assert ((lower - 1e-6) <= original_logits).all() and ((upper + 1e-6) >= original_logits).all()\n",
        "        succ += 1 if lower.argmax() == correct else 0\n",
        "\n",
        "    print(f'Success rate for eps={eps}: {succ/k}')"
      ],
      "metadata": {
        "colab": {
          "base_uri": "https://localhost:8080/"
        },
        "id": "0rVT4Y8ZF3NN",
        "outputId": "646c89a9-1a33-4c54-cf6d-b3f86b274527"
      },
      "execution_count": null,
      "outputs": [
        {
          "output_type": "stream",
          "name": "stdout",
          "text": [
            "Success rate for eps=0.01: 0.965\n",
            "Success rate for eps=0.02: 0.947\n",
            "Success rate for eps=0.03: 0.921\n",
            "Success rate for eps=0.04: 0.867\n",
            "Success rate for eps=0.05: 0.805\n",
            "Success rate for eps=0.06: 0.718\n",
            "Success rate for eps=0.07: 0.587\n",
            "Success rate for eps=0.08: 0.46\n",
            "Success rate for eps=0.09: 0.411\n",
            "Success rate for eps=0.1: 0.34\n"
          ]
        }
      ]
    }
  ],
  "metadata": {
    "colab": {
      "provenance": [],
      "collapsed_sections": [
        "Whsg1XX_OZs6"
      ]
    },
    "kernelspec": {
      "display_name": "Python 3 (ipykernel)",
      "language": "python",
      "name": "python3"
    },
    "language_info": {
      "codemirror_mode": {
        "name": "ipython",
        "version": 3
      },
      "file_extension": ".py",
      "mimetype": "text/x-python",
      "name": "python",
      "nbconvert_exporter": "python",
      "pygments_lexer": "ipython3",
      "version": "3.10.12"
    }
  },
  "nbformat": 4,
  "nbformat_minor": 0
}